{
 "cells": [
  {
   "cell_type": "markdown",
   "id": "908edae9c6fe530a",
   "metadata": {
    "collapsed": false,
    "jupyter": {
     "outputs_hidden": false
    }
   },
   "source": [
    "# Sequential Action Control Example for cartpole "
   ]
  },
  {
   "cell_type": "markdown",
   "id": "472ad883e5d4f861",
   "metadata": {
    "collapsed": false,
    "jupyter": {
     "outputs_hidden": false
    }
   },
   "source": [
    "## Import necessary package"
   ]
  },
  {
   "cell_type": "code",
   "execution_count": 1,
   "id": "d694d3a8ee9c665d",
   "metadata": {
    "collapsed": false,
    "jupyter": {
     "outputs_hidden": false
    }
   },
   "outputs": [],
   "source": [
    "import mujoco\n",
    "import mujoco.viewer\n",
    "import numpy as np\n",
    "\n",
    "import jax\n",
    "import jax.numpy as jnp\n",
    "from jax import jacfwd, grad, vmap, jit\n",
    "import time\n",
    "import matplotlib.pyplot as plt\n",
    "import mediapy as media\n",
    "from tqdm import tqdm\n",
    "import scipy"
   ]
  },
  {
   "cell_type": "markdown",
   "id": "99ab9f0d3ff9b916",
   "metadata": {
    "collapsed": false,
    "jupyter": {
     "outputs_hidden": false
    }
   },
   "source": [
    "## Define the necessary function for the rollout  "
   ]
  },
  {
   "cell_type": "markdown",
   "id": "c8feae2a83e04e37",
   "metadata": {
    "collapsed": false,
    "jupyter": {
     "outputs_hidden": false
    }
   },
   "source": [
    "### Then we need to define additional functions \n",
    "\n",
    "**step_forward(x_0, u)**. This function assumes non-linear dynamics $f$ and the next state is $x_{t+1} = f(x_t, u_t)$\n",
    "\n",
    "\n",
    "**get_dfdx_dfdu(x_0, u)**. Find continuous time derivative of the dynamics $\\frac{\\partial f}{\\partial x}$ and $\\frac{\\partial f}{\\partial u}$ From discrete dynamics to continuous dynamics:\n",
    "$$\n",
    "    \\dot{x} = f_c(x,u) =  A_cx + B_cu\n",
    "$$\n",
    "$$\n",
    "    x_{t+1} = x_t + \\dot{x} * dt = x_t + \\left[ A_cx_t + B_cu_t \\right] dt\n",
    "$$\n",
    "$$\n",
    "    x_{t+1} = (I + A_cdt)x_t + B_cu_tdt \n",
    "$$\n",
    "So we can get relationship between the discrete dynamics and continuous dynamics $A_d = (I + A_cdt)$ and $B_d = B_c dt$\n",
    "\n",
    "**get_f(x_0, u)**. Get continuous version of the dynamics $\\dot{x} = f_c(x,u)$\n",
    "$$\n",
    "    x_{t+1} = x_t + f_c(x_t,u_t)dt \n",
    "$$"
   ]
  },
  {
   "cell_type": "code",
   "execution_count": 2,
   "id": "76ccc9abe3a6ddef",
   "metadata": {
    "ExecuteTime": {
     "end_time": "2024-06-18T01:29:46.285835Z",
     "start_time": "2024-06-18T01:29:46.248966Z"
    },
    "collapsed": false,
    "jupyter": {
     "outputs_hidden": false
    }
   },
   "outputs": [],
   "source": [
    "def step_forward(x_0:np.array, u:np.array):\n",
    "    # make sure the shape of control is the dimension of the torque\n",
    "    assert (u.shape[0] ==  mj_model.nu)\n",
    "    assert (x_0.shape[0] == mj_model.nq + mj_model.nv)\n",
    "    state = get_state(mj_model, mj_data)\n",
    "    ctrl = mj_data.ctrl\n",
    "    \n",
    "    mj_data.qpos = x_0[:mj_model.nq]\n",
    "    mj_data.qvel = x_0[mj_model.nq:]\n",
    "    mj_data.act = []\n",
    "    mj_data.ctrl = u.reshape(mj_model.nu,)\n",
    "    mujoco.mj_step(mj_model, mj_data)\n",
    "    \n",
    "    next_state = np.concatenate((mj_data.qpos, mj_data.qvel), axis=0)\n",
    "    mujoco.mj_setState(mj_model, mj_data, state, mujoco.mjtState.mjSTATE_FULLPHYSICS)\n",
    "    mujoco.mj_setState(mj_model, mj_data, ctrl, mujoco.mjtState.mjSTATE_CTRL)\n",
    "    \n",
    "    return next_state, x_0\n",
    "\n",
    "def get_state(model, data):\n",
    "    nstate = mujoco.mj_stateSize(model, mujoco.mjtState.mjSTATE_FULLPHYSICS)\n",
    "    state = np.empty(nstate)\n",
    "    mujoco.mj_getState(model, data, state, mujoco.mjtState.mjSTATE_FULLPHYSICS)\n",
    "    return state.reshape((nstate, 1))\n",
    "\n",
    "def get_dfdx_dfdu(x: np.array, u: np.array):\n",
    "    # Find continuous time derivative of the dynamics in MuJoCo\n",
    "    # we might want to decrease the dt here to get better finite differencing\n",
    "    assert (x.shape[0] == mj_model.nq + mj_model.nv)\n",
    "\n",
    "    mujoco.mj_resetData(mj_model, mj_data)\n",
    "    mj_data.qpos = x[:mj_model.nq]\n",
    "    mj_data.qvel = x[mj_model.nq:]\n",
    "    mj_data.ctrl = u.reshape(mj_model.nu, )\n",
    "\n",
    "    dfdx_mujoco = np.zeros((2 * mj_model.nv, 2 * mj_model.nv))\n",
    "    dfdu_mujoco = np.zeros((2 * mj_model.nv, mj_model.nu))\n",
    "    epsilon = 1e-6\n",
    "    flg_centered = True\n",
    "\n",
    "    mj_model.opt.timestep = 1e-6\n",
    "    mujoco.mjd_transitionFD(mj_model, mj_data, epsilon, flg_centered, dfdx_mujoco, dfdu_mujoco, None, None)\n",
    "    \n",
    "    conti_A = (dfdx_mujoco - np.eye(dfdx_mujoco.shape[0])) / mj_model.opt.timestep\n",
    "    conti_B = dfdu_mujoco / mj_model.opt.timestep\n",
    "\n",
    "    mj_model.opt.timestep = dt\n",
    "    return  conti_A, conti_B \n",
    "\n",
    "def get_f(x,u):\n",
    "    mj_model.opt.timestep = 1e-6\n",
    "    # get continuous version of the dynamics using finite difference\n",
    "    x_next = step_forward(x,u)[0]\n",
    "    f_c = (x_next - x) / mj_model.opt.timestep\n",
    "    mj_model.opt.timestep = dt\n",
    "    return f_c"
   ]
  },
  {
   "cell_type": "markdown",
   "id": "34ff589da994e58",
   "metadata": {
    "collapsed": false,
    "jupyter": {
     "outputs_hidden": false
    }
   },
   "source": [
    "## Define terminal cost and step cost. Get its gradient"
   ]
  },
  {
   "cell_type": "code",
   "execution_count": 3,
   "id": "accd4617b68e4065",
   "metadata": {
    "ExecuteTime": {
     "end_time": "2024-06-18T01:29:46.285935Z",
     "start_time": "2024-06-18T01:29:46.251731Z"
    },
    "collapsed": false,
    "jupyter": {
     "outputs_hidden": false
    }
   },
   "outputs": [],
   "source": [
    "def term_cost(x):\n",
    "    q,qdot = jnp.split(x,2)\n",
    "    # -5.0*jnp.cos(q[1])\n",
    "    return  50.0* q[1]*q[1] + 0.01 * qdot@qdot + 0.1* q[0]**2"
   ]
  },
  {
   "cell_type": "code",
   "execution_count": 4,
   "id": "578597c6fc790e63",
   "metadata": {
    "ExecuteTime": {
     "end_time": "2024-06-18T01:29:46.287771Z",
     "start_time": "2024-06-18T01:29:46.255696Z"
    },
    "collapsed": false,
    "jupyter": {
     "outputs_hidden": false
    }
   },
   "outputs": [],
   "source": [
    "def running_cost(x, u):\n",
    "    q,qdot = jnp.split(x,2)\n",
    "    # -20.0*jnp.cos(q[1])\n",
    "    ell = 200.0*q[1]*q[1]  + 0.00001*jnp.sum(u**2) + 0.01* qdot@qdot + 0.1*q[0]**2\n",
    "    return ell"
   ]
  },
  {
   "cell_type": "markdown",
   "id": "ae9853bcd7e40e52",
   "metadata": {
    "collapsed": false,
    "jupyter": {
     "outputs_hidden": false
    }
   },
   "source": [
    "## Define Scan function where is the replicate of jax scan \n",
    "\n",
    "Scan function can be used to perform forward rollout and backward rollout "
   ]
  },
  {
   "cell_type": "code",
   "execution_count": 5,
   "id": "3f98e24489cd6e95",
   "metadata": {
    "ExecuteTime": {
     "end_time": "2024-06-18T01:29:46.293608Z",
     "start_time": "2024-06-18T01:29:46.259658Z"
    },
    "collapsed": false,
    "jupyter": {
     "outputs_hidden": false
    }
   },
   "outputs": [],
   "source": [
    "def scan(f, init, xs, length=None):\n",
    "  # replacement of jax scan function to make it compatible with\n",
    "  # the mujoco which is not using jax\n",
    "  if xs is None:\n",
    "    xs = [None] * length\n",
    "  carry = init\n",
    "  ys = []\n",
    "  for x in xs:\n",
    "    carry, y = f(carry, x)\n",
    "    ys.append(y)\n",
    "  return carry, jnp.stack(ys)"
   ]
  },
  {
   "cell_type": "markdown",
   "id": "0c82a5da-f3b9-4738-a750-0f4431bc1735",
   "metadata": {
    "jp-MarkdownHeadingCollapsed": true
   },
   "source": [
    "### Test case for scan function "
   ]
  },
  {
   "cell_type": "code",
   "execution_count": 6,
   "id": "9787af10-fc5a-4d34-b026-94cedac59904",
   "metadata": {},
   "outputs": [],
   "source": [
    "# key = jax.random.PRNGKey(758493)  # Random seed is explicit in JAX\n",
    "\n",
    "# xml_path = \"./cartpole.xml\"\n",
    "# mj_model = mujoco.MjModel.from_xml_path(xml_path)\n",
    "# mj_data = mujoco.MjData(mj_model)\n",
    "# x_0 = np.array([0, 3.1, 0., 0.])\n",
    "# u = (jax.random.uniform(key, shape=(20, 1))- 0.5) *2 \n",
    "\n",
    "# # test scan \n",
    "# x_term, X = forward_sim(x_0, u)\n",
    "\n",
    "# # ground truth \n",
    "# X_t = [x_0]\n",
    "# for i in u:\n",
    "#     x, _ = step_forward(X_t[-1], i)\n",
    "#     X_t.append(x)\n",
    "# X_t = jnp.array(X_t)\n",
    "# print(jnp.array_equal(X, X_t[:-1]))\n",
    "# print(jnp.array_equal(x_term, X_t[-1]))\n"
   ]
  },
  {
   "cell_type": "markdown",
   "id": "9acd406c16bd6d4c",
   "metadata": {
    "collapsed": false,
    "jupyter": {
     "outputs_hidden": false
    }
   },
   "source": [
    "## Get backward simulation given a finite horizon "
   ]
  },
  {
   "cell_type": "markdown",
   "id": "5ec116a9-6212-4add-8183-c7b28f9de8c0",
   "metadata": {},
   "source": [
    "We can backpropogate the co-state from $t_f$ to $t_0$\n",
    "$$\n",
    "\\dot{\\rho} = -\\nabla_x l_1(x,u) - D_x f(x, u_{def})^T\\rho\n",
    "$$\n",
    "\n",
    "In discrete time, we will have\n",
    "$$\n",
    "\\rho_{t-1} = \\rho_{t} - \\dot{\\rho}_t * dt\n",
    "$$"
   ]
  },
  {
   "cell_type": "code",
   "execution_count": 7,
   "id": "5240e5a68840c565",
   "metadata": {
    "ExecuteTime": {
     "end_time": "2024-06-18T01:29:46.293821Z",
     "start_time": "2024-06-18T01:29:46.263496Z"
    },
    "collapsed": false,
    "jupyter": {
     "outputs_hidden": false
    }
   },
   "outputs": [],
   "source": [
    "def drhodt(rho, v, u):\n",
    "    dfdx_mujoco, dfdu_mujoco = get_dfdx_dfdu(v, u)\n",
    "    return  - Drunning_cost(v,u) - dfdx_mujoco.T @ rho\n",
    "\n",
    "def F_backward(rho, v):\n",
    "    x, u = v[:mj_model.nq + mj_model.nv], v[mj_model.nq + mj_model.nv:]\n",
    "    assert (x.shape[0] == mj_model.nq + mj_model.nv)\n",
    "    assert (u.shape[0] == mj_model.nu)\n",
    "    rhodot = drhodt(rho, x, u)\n",
    "    rhop = rho - dt * rhodot\n",
    "    return rhop, rho"
   ]
  },
  {
   "cell_type": "code",
   "execution_count": 8,
   "id": "3ebb4038cc5ddda",
   "metadata": {
    "ExecuteTime": {
     "end_time": "2024-06-18T01:29:46.293882Z",
     "start_time": "2024-06-18T01:29:46.273737Z"
    },
    "collapsed": false,
    "jupyter": {
     "outputs_hidden": false
    }
   },
   "outputs": [],
   "source": [
    "# get the gradient using jax grad \n",
    "Dterm_cost = grad(term_cost)\n",
    "Drunning_cost = grad(running_cost)\n",
    "forward_sim = lambda x0, u: scan(step_forward, x0, u)\n",
    "backward_sim = lambda rho0, v, u: scan(F_backward, rho0, jnp.concatenate([v[::-1], u[::-1]], axis=1))"
   ]
  },
  {
   "cell_type": "markdown",
   "id": "2ce64d17ed306fee",
   "metadata": {
    "collapsed": false,
    "jupyter": {
     "outputs_hidden": false
    }
   },
   "source": [
    "### Find Optimal control \n",
    "\n",
    "Here we can find the optimal control by minimizing the auxiliary objective function $l_2$ \n",
    "\n",
    "$$l_2 (\\tau, u_2(\\tau)) = \\frac{dJ}{d\\lambda}(\\tau, u_2(\\tau)) + || u_2(\\tau) ||_R^2 $$\n",
    "where $\\frac{dJ}{d\\lambda} $ is the mode insertion gradient\n",
    "$$ \\frac{dJ}{d\\lambda}(\\tau, u_2(\\tau)) = \\rho^T(\\tau) \\cdot \\left[ f(x\\left(\\tau), u^\\star(\\tau)\\right) - f(x(\\tau), u_{def}(\\tau)) \\right] $$\n",
    "Then we find the optimal control:\n",
    "$$\n",
    "    argmin_{u^\\star(\\tau)} l_2 \n",
    "$$\n",
    "$$\n",
    "  argmin_{u^\\star(\\tau)}  \\rho^T(\\tau) \\cdot \\left[ f(x\\left(\\tau), u^\\star(\\tau)\\right) - f(x(\\tau), u_{def}(\\tau)) \\right] + || u_2(\\tau) ||_R^2\n",
    "$$\n",
    "Take the gradient of the objective function:\n",
    "$$\n",
    "    \\frac{\\partial l_2}{\\partial u^\\star(\\tau)} = R^Tu^\\star + \\rho^T \\frac{\\partial f}{\\partial u^\\star(\\tau)}(x(\\tau), u^\\star)\n",
    "$$\n",
    "We use gradient descent to find the optimal control across the time horizon \n",
    "$$\n",
    "    u^\\star = u^\\star - \\alpha * \\frac{\\partial l_2}{\\partial u^\\star(\\tau)}\n",
    "$$\n",
    "where $\\alpha$ is the learning rate"
   ]
  },
  {
   "cell_type": "code",
   "execution_count": 9,
   "id": "af5020e7-535c-4044-a4b2-06ea47f28600",
   "metadata": {},
   "outputs": [],
   "source": [
    "# def u_tau(x, rho, udef):\n",
    "#     # here we use gradient descen to find the best actions\n",
    "#     # set intial guess of the control, u_star = u_def\n",
    "#     u_star = np.array([0]) # np.array([-0.1]) \n",
    "#     u_stars = [u_star]\n",
    "#     # use gradient descent to update the optimal control \n",
    "#     error = 1 \n",
    "#     idx = 0 \n",
    "#     # l2_prev = l2(x, udef, u_star, rho)\n",
    "#     # print(\"before l2 \", l2(x, udef, u_star,rho))\n",
    "#     while error > 0.01:\n",
    "#         u_star = u_star - 0.01 * Dl2Du(x, udef, u_star, rho)\n",
    "#         idx += 1\n",
    "#         error = np.linalg.norm(u_star - u_stars[-1])\n",
    "#         u_stars.append(u_star)               \n",
    "#         if idx >= 200:\n",
    "#             print(\"maximum iteration\")\n",
    "#             break\n",
    "#     print(\"u_star\", u_star)\n",
    "#     # l2_curr = l2(x, udef, u_star, rho)\n",
    "#     # print(\"after l2 \", l2(x, udef, u_star,rho))\n",
    "#     # dfdx_mujoco, dfdu_mujoco = get_dfdx_dfdu(x, udef)\n",
    "#     # np.clip((-rho @ dfdu_mujoco + udef), -1., 1.)\n",
    "#     return np.clip(u_star, -1 , 1)"
   ]
  },
  {
   "cell_type": "code",
   "execution_count": 12,
   "id": "68a6fac4855b9de6",
   "metadata": {
    "ExecuteTime": {
     "end_time": "2024-06-18T01:29:46.293940Z",
     "start_time": "2024-06-18T01:29:46.276914Z"
    },
    "collapsed": false,
    "jupyter": {
     "outputs_hidden": false
    }
   },
   "outputs": [],
   "source": [
    "# def l2(u2, x, u1 ,rho):\n",
    "#     return 1/2*R*(u2)**2 + rho @ (get_f(x,u2) - get_f(x, u1))\n",
    "\n",
    "# def Dl2Du(u2 , x, u1,rho):\n",
    "#     # u2 is u_star and u1 is udef\n",
    "#     dfdx_mujoco, dfdu_mujoco = get_dfdx_dfdu(x, u2)\n",
    "#     return R*(u2) + rho @ dfdu_mujoco\n"
   ]
  },
  {
   "cell_type": "markdown",
   "id": "61445007-3ceb-45dc-82be-e18348b5d750",
   "metadata": {},
   "source": [
    "### Alternative method for finding optimal control \n",
    "\n",
    "define $l_2$ to be \n",
    "$$\n",
    "    l_2 = \\frac{1}{2}\\left[ \\frac{dJ}{d\\lambda^+}(\\tau, u_2(\\tau)) - \\alpha_d \\right]^2 + \\frac{1}{2}|| u_2(\\tau)||^2_R\n",
    "$$\n",
    "Then we will have the following gradient for optimization:\n",
    "$$\n",
    "    \\frac{\\partial l_2}{\\partial u_2} = \\left[ \\frac{dJ}{d\\lambda^+}(\\tau, u_2(\\tau)) - \\alpha_d \\right] [\\rho(\\tau)^T D_{u_2} f(x, u_2)] + R^Tu_2\n",
    "$$"
   ]
  },
  {
   "cell_type": "code",
   "execution_count": null,
   "id": "56a82398-fd80-40fb-870c-6da2494c52e5",
   "metadata": {},
   "outputs": [],
   "source": [
    "def l2(u2, x, u1 ,rho):\n",
    "    return 1/2*R*(u2)**2 + 1/2 (rho @ (get_f(x,u2) - get_f(x, u1)) - 1000 )**2\n",
    "\n",
    "def Dl2Du(u2 , x, u1,rho):\n",
    "    # u2 is u_star and u1 is udef\n",
    "    dfdx_mujoco, dfdu_mujoco = get_dfdx_dfdu(x, u2)\n",
    "    \n",
    "    return R*(u2) + (rho @ dfdu_mujoco) * (rho @ (get_f(x,u2) - get_f(x, u1)) - 1000 )\n"
   ]
  },
  {
   "cell_type": "code",
   "execution_count": null,
   "id": "d6f874cd-7181-42bb-8382-5197cf35f9aa",
   "metadata": {},
   "outputs": [],
   "source": [
    "# Test Scipy \n",
    "def u_tau(x, rho, udef):\n",
    "    # here we use gradient descen to find the best actions\n",
    "    initial_guess_u = np.array([0])\n",
    "    \n",
    "    res = scipy.optimize.minimize(l2, initial_guess_u, args = (x, udef, rho) ,method = 'SLSQP', jac = Dl2Du)\n",
    "    u_star = res.x\n",
    "    return u_star # np.clip(u_star, -1 , 1)"
   ]
  },
  {
   "cell_type": "markdown",
   "id": "ee77800e51c72155",
   "metadata": {
    "collapsed": false,
    "jupyter": {
     "outputs_hidden": false
    }
   },
   "source": [
    "Find Optimal Time to Act"
   ]
  },
  {
   "cell_type": "code",
   "execution_count": 13,
   "id": "7973eb5ebef794fe",
   "metadata": {
    "ExecuteTime": {
     "end_time": "2024-06-18T01:29:46.294282Z",
     "start_time": "2024-06-18T01:29:46.279543Z"
    },
    "collapsed": false,
    "jupyter": {
     "outputs_hidden": false
    }
   },
   "outputs": [],
   "source": [
    "def dJdlam(rho, x, u2, u1):\n",
    "    assert(x.shape[0] == mj_model.nq + mj_model.nv)\n",
    "    assert(rho.shape[0] == 2*mj_model.nv)\n",
    "    temp = get_f(x,u2) - get_f(x, u1)\n",
    "    return rho.T @ temp"
   ]
  },
  {
   "cell_type": "markdown",
   "id": "f452c1124a320f6f",
   "metadata": {
    "collapsed": false,
    "jupyter": {
     "outputs_hidden": false
    }
   },
   "source": [
    "## Main code for SAC "
   ]
  },
  {
   "cell_type": "code",
   "execution_count": 14,
   "id": "92d06c616506020a",
   "metadata": {
    "ExecuteTime": {
     "end_time": "2024-06-18T01:29:46.295834Z",
     "start_time": "2024-06-18T01:29:46.289570Z"
    },
    "collapsed": false,
    "jupyter": {
     "outputs_hidden": false
    }
   },
   "outputs": [],
   "source": [
    "def SAC(x0, U1):\n",
    "    U1 = U1.at[:-1, :].set(U1[1:, :])\n",
    "    U1 = U1.at[-1, :].set(U1[-1, :])\n",
    "\n",
    "    xf, X = forward_sim(x0, U1) # X = [x0, ..... ,xf)\n",
    "    rhof = np.array(Dterm_cost(xf))\n",
    "    rho0, rho = backward_sim(rhof, X, U1) # perfrom backward simulation for the adjoint state. rho = [rhof, rho0)\n",
    "\n",
    "    # we have to pop the last from the tho and add the rho0 to the front to make it rho = (rhof, rho0]\n",
    "    rho = np.concatenate((rho[:-1,:], rho0.reshape((1,-1))),axis=0) # rho = (rhof, rho0]\n",
    "\n",
    "    U_tau = np.stack(list(map(lambda x_map, rho_map, u_map: u_tau(x_map, rho_map, u_map), X, rho[::-1], U1)))\n",
    "\n",
    "    djdlam = np.stack(list(\n",
    "        map(lambda rho_map, x_map, u_2_map, u1_map: dJdlam(rho_map, x_map, u_2_map, u1_map), rho[::-1], X, U_tau, U1)))\n",
    "\n",
    "    \n",
    "    tau_idx = np.argmin(djdlam) \n",
    "    # print(\"tau_idx is \", tau_idx)\n",
    "    # print(\"u_tau is \", U_tau[tau_idx])\n",
    "    # # visualize dJdLam \n",
    "    # plt.plot(np.arange(djdlam.shape[0]), djdlam.T)\n",
    "    # plt.show()\n",
    "    # input()\n",
    "    # plt.close()\n",
    "    u_star = U_tau[tau_idx]\n",
    "    # line search\n",
    "    J_best = np.inf\n",
    "    lam_idx_best = 0\n",
    "\n",
    "    for lam_idx in range(0, T - tau_idx + 1):\n",
    "        _U2 = U1.at[tau_idx:tau_idx + lam_idx].set(u_star)\n",
    "        _xf, _X = forward_sim(x0, _U2)\n",
    "        J_line = np.mean(np.stack(list(map(lambda X, U: running_cost(X, U), _X, _U2))))      \n",
    "        if J_line < J_best:\n",
    "            J_best = J_line\n",
    "            lam_idx_best = lam_idx\n",
    "    # print(\"J line search results: \", J_line, lam_idx, J_best, lam_idx_best)\n",
    "    return U1.at[tau_idx:tau_idx + lam_idx_best].set(u_star)"
   ]
  },
  {
   "cell_type": "markdown",
   "id": "3f9f835788db6172",
   "metadata": {
    "collapsed": false,
    "jupyter": {
     "outputs_hidden": false
    }
   },
   "source": [
    "## Main Simulation "
   ]
  },
  {
   "cell_type": "code",
   "execution_count": 15,
   "id": "b5fc06bc942c1131",
   "metadata": {
    "ExecuteTime": {
     "end_time": "2024-06-18T01:29:46.370695Z",
     "start_time": "2024-06-18T01:29:46.329853Z"
    },
    "collapsed": false,
    "jupyter": {
     "outputs_hidden": false
    }
   },
   "outputs": [],
   "source": [
    "# Make new camera, set distance.\n",
    "dt = 0.01\n",
    "ths = np.array([0.10]) # np.arange(0.4, 1.5, 0.1)\n",
    "tf = 2\n",
    "Rs =  np.array([0.0001])# [0.001, 0.01, 0.1, 1.0, 10.0, 100.0, 1000.0]\n",
    "xml_path = \"./cartpole.xml\"\n",
    "mj_model = mujoco.MjModel.from_xml_path(xml_path)\n",
    "mj_data = mujoco.MjData(mj_model)\n",
    "mj_model.opt.timestep = dt\n",
    "\n",
    "camera = mujoco.MjvCamera()\n",
    "mujoco.mjv_defaultFreeCamera(mj_model, camera)\n",
    "camera.distance = 4.0\n",
    "\n",
    "# Enable contact force visualisation.\n",
    "scene_option = mujoco.MjvOption()\n",
    "\n",
    "# New renderer instance with higher resolution.\n",
    "renderer = mujoco.Renderer(mj_model, width=1280, height=720)"
   ]
  },
  {
   "cell_type": "code",
   "execution_count": 16,
   "id": "746937e1ff061a0e",
   "metadata": {
    "ExecuteTime": {
     "end_time": "2024-06-18T01:29:51.442814Z",
     "start_time": "2024-06-18T01:29:46.380544Z"
    },
    "collapsed": false,
    "jupyter": {
     "outputs_hidden": false
    }
   },
   "outputs": [
    {
     "ename": "TypeError",
     "evalue": "'int' object is not iterable",
     "output_type": "error",
     "traceback": [
      "\u001b[0;31m---------------------------------------------------------------------------\u001b[0m",
      "\u001b[0;31mTypeError\u001b[0m                                 Traceback (most recent call last)",
      "Cell \u001b[0;32mIn[16], line 9\u001b[0m\n\u001b[1;32m      7\u001b[0m \u001b[38;5;66;03m# set inintial state\u001b[39;00m\n\u001b[1;32m      8\u001b[0m ctrl \u001b[38;5;241m=\u001b[39m jnp\u001b[38;5;241m.\u001b[39mzeros((\u001b[38;5;28mint\u001b[39m(th \u001b[38;5;241m/\u001b[39m dt), \u001b[38;5;241m1\u001b[39m))\n\u001b[0;32m----> 9\u001b[0m ctrl \u001b[38;5;241m=\u001b[39m \u001b[43mSAC\u001b[49m\u001b[43m(\u001b[49m\u001b[43mx_0\u001b[49m\u001b[43m,\u001b[49m\u001b[43m \u001b[49m\u001b[43mctrl\u001b[49m\u001b[43m)\u001b[49m\n\u001b[1;32m     11\u001b[0m log \u001b[38;5;241m=\u001b[39m []\n\u001b[1;32m     12\u001b[0m u_log \u001b[38;5;241m=\u001b[39m []\n",
      "Cell \u001b[0;32mIn[14], line 12\u001b[0m, in \u001b[0;36mSAC\u001b[0;34m(x0, U1)\u001b[0m\n\u001b[1;32m      9\u001b[0m \u001b[38;5;66;03m# we have to pop the last from the tho and add the rho0 to the front to make it rho = (rhof, rho0]\u001b[39;00m\n\u001b[1;32m     10\u001b[0m rho \u001b[38;5;241m=\u001b[39m np\u001b[38;5;241m.\u001b[39mconcatenate((rho[:\u001b[38;5;241m-\u001b[39m\u001b[38;5;241m1\u001b[39m,:], rho0\u001b[38;5;241m.\u001b[39mreshape((\u001b[38;5;241m1\u001b[39m,\u001b[38;5;241m-\u001b[39m\u001b[38;5;241m1\u001b[39m))),axis\u001b[38;5;241m=\u001b[39m\u001b[38;5;241m0\u001b[39m) \u001b[38;5;66;03m# rho = (rhof, rho0]\u001b[39;00m\n\u001b[0;32m---> 12\u001b[0m U_tau \u001b[38;5;241m=\u001b[39m np\u001b[38;5;241m.\u001b[39mstack(\u001b[38;5;28;43mlist\u001b[39;49m\u001b[43m(\u001b[49m\u001b[38;5;28;43mmap\u001b[39;49m\u001b[43m(\u001b[49m\u001b[38;5;28;43;01mlambda\u001b[39;49;00m\u001b[43m \u001b[49m\u001b[43mx_map\u001b[49m\u001b[43m,\u001b[49m\u001b[43m \u001b[49m\u001b[43mrho_map\u001b[49m\u001b[43m,\u001b[49m\u001b[43m \u001b[49m\u001b[43mu_map\u001b[49m\u001b[43m:\u001b[49m\u001b[43m \u001b[49m\u001b[43mu_tau\u001b[49m\u001b[43m(\u001b[49m\u001b[43mx_map\u001b[49m\u001b[43m,\u001b[49m\u001b[43m \u001b[49m\u001b[43mrho_map\u001b[49m\u001b[43m,\u001b[49m\u001b[43m \u001b[49m\u001b[43mu_map\u001b[49m\u001b[43m)\u001b[49m\u001b[43m,\u001b[49m\u001b[43m \u001b[49m\u001b[43mX\u001b[49m\u001b[43m,\u001b[49m\u001b[43m \u001b[49m\u001b[43mrho\u001b[49m\u001b[43m[\u001b[49m\u001b[43m:\u001b[49m\u001b[43m:\u001b[49m\u001b[38;5;241;43m-\u001b[39;49m\u001b[38;5;241;43m1\u001b[39;49m\u001b[43m]\u001b[49m\u001b[43m,\u001b[49m\u001b[43m \u001b[49m\u001b[43mU1\u001b[49m\u001b[43m)\u001b[49m\u001b[43m)\u001b[49m)\n\u001b[1;32m     14\u001b[0m djdlam \u001b[38;5;241m=\u001b[39m np\u001b[38;5;241m.\u001b[39mstack(\u001b[38;5;28mlist\u001b[39m(\n\u001b[1;32m     15\u001b[0m     \u001b[38;5;28mmap\u001b[39m(\u001b[38;5;28;01mlambda\u001b[39;00m rho_map, x_map, u_2_map, u1_map: dJdlam(rho_map, x_map, u_2_map, u1_map), rho[::\u001b[38;5;241m-\u001b[39m\u001b[38;5;241m1\u001b[39m], X, U_tau, U1)))\n\u001b[1;32m     18\u001b[0m tau_idx \u001b[38;5;241m=\u001b[39m np\u001b[38;5;241m.\u001b[39margmin(djdlam) \n",
      "Cell \u001b[0;32mIn[14], line 12\u001b[0m, in \u001b[0;36mSAC.<locals>.<lambda>\u001b[0;34m(x_map, rho_map, u_map)\u001b[0m\n\u001b[1;32m      9\u001b[0m \u001b[38;5;66;03m# we have to pop the last from the tho and add the rho0 to the front to make it rho = (rhof, rho0]\u001b[39;00m\n\u001b[1;32m     10\u001b[0m rho \u001b[38;5;241m=\u001b[39m np\u001b[38;5;241m.\u001b[39mconcatenate((rho[:\u001b[38;5;241m-\u001b[39m\u001b[38;5;241m1\u001b[39m,:], rho0\u001b[38;5;241m.\u001b[39mreshape((\u001b[38;5;241m1\u001b[39m,\u001b[38;5;241m-\u001b[39m\u001b[38;5;241m1\u001b[39m))),axis\u001b[38;5;241m=\u001b[39m\u001b[38;5;241m0\u001b[39m) \u001b[38;5;66;03m# rho = (rhof, rho0]\u001b[39;00m\n\u001b[0;32m---> 12\u001b[0m U_tau \u001b[38;5;241m=\u001b[39m np\u001b[38;5;241m.\u001b[39mstack(\u001b[38;5;28mlist\u001b[39m(\u001b[38;5;28mmap\u001b[39m(\u001b[38;5;28;01mlambda\u001b[39;00m x_map, rho_map, u_map: \u001b[43mu_tau\u001b[49m\u001b[43m(\u001b[49m\u001b[43mx_map\u001b[49m\u001b[43m,\u001b[49m\u001b[43m \u001b[49m\u001b[43mrho_map\u001b[49m\u001b[43m,\u001b[49m\u001b[43m \u001b[49m\u001b[43mu_map\u001b[49m\u001b[43m)\u001b[49m, X, rho[::\u001b[38;5;241m-\u001b[39m\u001b[38;5;241m1\u001b[39m], U1)))\n\u001b[1;32m     14\u001b[0m djdlam \u001b[38;5;241m=\u001b[39m np\u001b[38;5;241m.\u001b[39mstack(\u001b[38;5;28mlist\u001b[39m(\n\u001b[1;32m     15\u001b[0m     \u001b[38;5;28mmap\u001b[39m(\u001b[38;5;28;01mlambda\u001b[39;00m rho_map, x_map, u_2_map, u1_map: dJdlam(rho_map, x_map, u_2_map, u1_map), rho[::\u001b[38;5;241m-\u001b[39m\u001b[38;5;241m1\u001b[39m], X, U_tau, U1)))\n\u001b[1;32m     18\u001b[0m tau_idx \u001b[38;5;241m=\u001b[39m np\u001b[38;5;241m.\u001b[39margmin(djdlam) \n",
      "Cell \u001b[0;32mIn[11], line 6\u001b[0m, in \u001b[0;36mu_tau\u001b[0;34m(x, rho, udef)\u001b[0m\n\u001b[1;32m      2\u001b[0m \u001b[38;5;28;01mdef\u001b[39;00m \u001b[38;5;21mu_tau\u001b[39m(x, rho, udef):\n\u001b[1;32m      3\u001b[0m     \u001b[38;5;66;03m# here we use gradient descen to find the best actions\u001b[39;00m\n\u001b[1;32m      4\u001b[0m     initial_guess_u \u001b[38;5;241m=\u001b[39m np\u001b[38;5;241m.\u001b[39marray([\u001b[38;5;241m0\u001b[39m])\n\u001b[0;32m----> 6\u001b[0m     res \u001b[38;5;241m=\u001b[39m \u001b[43mscipy\u001b[49m\u001b[38;5;241;43m.\u001b[39;49m\u001b[43moptimize\u001b[49m\u001b[38;5;241;43m.\u001b[39;49m\u001b[43mminimize\u001b[49m\u001b[43m(\u001b[49m\u001b[43ml2\u001b[49m\u001b[43m,\u001b[49m\u001b[43m \u001b[49m\u001b[43minitial_guess_u\u001b[49m\u001b[43m,\u001b[49m\u001b[43m \u001b[49m\u001b[43margs\u001b[49m\u001b[43m \u001b[49m\u001b[38;5;241;43m=\u001b[39;49m\u001b[43m \u001b[49m\u001b[43m(\u001b[49m\u001b[43mx\u001b[49m\u001b[43m,\u001b[49m\u001b[43m \u001b[49m\u001b[43mudef\u001b[49m\u001b[43m,\u001b[49m\u001b[43m \u001b[49m\u001b[43mrho\u001b[49m\u001b[43m)\u001b[49m\u001b[43m \u001b[49m\u001b[43m,\u001b[49m\u001b[43mmethod\u001b[49m\u001b[43m \u001b[49m\u001b[38;5;241;43m=\u001b[39;49m\u001b[43m \u001b[49m\u001b[38;5;124;43m'\u001b[39;49m\u001b[38;5;124;43mSLSQP\u001b[39;49m\u001b[38;5;124;43m'\u001b[39;49m\u001b[43m,\u001b[49m\u001b[43m \u001b[49m\u001b[43mjac\u001b[49m\u001b[43m \u001b[49m\u001b[38;5;241;43m=\u001b[39;49m\u001b[43m \u001b[49m\u001b[43mDl2Du\u001b[49m\u001b[43m,\u001b[49m\u001b[43m \u001b[49m\u001b[43mbounds\u001b[49m\u001b[43m \u001b[49m\u001b[38;5;241;43m=\u001b[39;49m\u001b[43m \u001b[49m\u001b[43m(\u001b[49m\u001b[38;5;241;43m-\u001b[39;49m\u001b[38;5;241;43m1\u001b[39;49m\u001b[43m,\u001b[49m\u001b[38;5;241;43m1\u001b[39;49m\u001b[43m)\u001b[49m\u001b[43m)\u001b[49m\n\u001b[1;32m      7\u001b[0m     u_star \u001b[38;5;241m=\u001b[39m res\u001b[38;5;241m.\u001b[39mx\n\u001b[1;32m      8\u001b[0m     \u001b[38;5;28;01mreturn\u001b[39;00m u_star\n",
      "File \u001b[0;32m~/miniconda3/envs/jax_a1/lib/python3.9/site-packages/scipy/optimize/_minimize.py:645\u001b[0m, in \u001b[0;36mminimize\u001b[0;34m(fun, x0, args, method, jac, hess, hessp, bounds, constraints, tol, callback, options)\u001b[0m\n\u001b[1;32m    642\u001b[0m remove_vars \u001b[38;5;241m=\u001b[39m \u001b[38;5;28;01mFalse\u001b[39;00m\n\u001b[1;32m    643\u001b[0m \u001b[38;5;28;01mif\u001b[39;00m bounds \u001b[38;5;129;01mis\u001b[39;00m \u001b[38;5;129;01mnot\u001b[39;00m \u001b[38;5;28;01mNone\u001b[39;00m:\n\u001b[1;32m    644\u001b[0m     \u001b[38;5;66;03m# convert to new-style bounds so we only have to consider one case\u001b[39;00m\n\u001b[0;32m--> 645\u001b[0m     bounds \u001b[38;5;241m=\u001b[39m \u001b[43mstandardize_bounds\u001b[49m\u001b[43m(\u001b[49m\u001b[43mbounds\u001b[49m\u001b[43m,\u001b[49m\u001b[43m \u001b[49m\u001b[43mx0\u001b[49m\u001b[43m,\u001b[49m\u001b[43m \u001b[49m\u001b[38;5;124;43m'\u001b[39;49m\u001b[38;5;124;43mnew\u001b[39;49m\u001b[38;5;124;43m'\u001b[39;49m\u001b[43m)\u001b[49m\n\u001b[1;32m    646\u001b[0m     bounds \u001b[38;5;241m=\u001b[39m _validate_bounds(bounds, x0, meth)\n\u001b[1;32m    648\u001b[0m     \u001b[38;5;28;01mif\u001b[39;00m meth \u001b[38;5;129;01min\u001b[39;00m {\u001b[38;5;124m\"\u001b[39m\u001b[38;5;124mtnc\u001b[39m\u001b[38;5;124m\"\u001b[39m, \u001b[38;5;124m\"\u001b[39m\u001b[38;5;124mslsqp\u001b[39m\u001b[38;5;124m\"\u001b[39m, \u001b[38;5;124m\"\u001b[39m\u001b[38;5;124ml-bfgs-b\u001b[39m\u001b[38;5;124m\"\u001b[39m}:\n\u001b[1;32m    649\u001b[0m         \u001b[38;5;66;03m# These methods can't take the finite-difference derivatives they\u001b[39;00m\n\u001b[1;32m    650\u001b[0m         \u001b[38;5;66;03m# need when a variable is fixed by the bounds. To avoid this issue,\u001b[39;00m\n\u001b[0;32m   (...)\u001b[0m\n\u001b[1;32m    655\u001b[0m \n\u001b[1;32m    656\u001b[0m         \u001b[38;5;66;03m# determine whether any variables are fixed\u001b[39;00m\n",
      "File \u001b[0;32m~/miniconda3/envs/jax_a1/lib/python3.9/site-packages/scipy/optimize/_minimize.py:1021\u001b[0m, in \u001b[0;36mstandardize_bounds\u001b[0;34m(bounds, x0, meth)\u001b[0m\n\u001b[1;32m   1019\u001b[0m \u001b[38;5;28;01mif\u001b[39;00m meth \u001b[38;5;129;01min\u001b[39;00m {\u001b[38;5;124m'\u001b[39m\u001b[38;5;124mtrust-constr\u001b[39m\u001b[38;5;124m'\u001b[39m, \u001b[38;5;124m'\u001b[39m\u001b[38;5;124mpowell\u001b[39m\u001b[38;5;124m'\u001b[39m, \u001b[38;5;124m'\u001b[39m\u001b[38;5;124mnelder-mead\u001b[39m\u001b[38;5;124m'\u001b[39m, \u001b[38;5;124m'\u001b[39m\u001b[38;5;124mcobyla\u001b[39m\u001b[38;5;124m'\u001b[39m, \u001b[38;5;124m'\u001b[39m\u001b[38;5;124mnew\u001b[39m\u001b[38;5;124m'\u001b[39m}:\n\u001b[1;32m   1020\u001b[0m     \u001b[38;5;28;01mif\u001b[39;00m \u001b[38;5;129;01mnot\u001b[39;00m \u001b[38;5;28misinstance\u001b[39m(bounds, Bounds):\n\u001b[0;32m-> 1021\u001b[0m         lb, ub \u001b[38;5;241m=\u001b[39m \u001b[43mold_bound_to_new\u001b[49m\u001b[43m(\u001b[49m\u001b[43mbounds\u001b[49m\u001b[43m)\u001b[49m\n\u001b[1;32m   1022\u001b[0m         bounds \u001b[38;5;241m=\u001b[39m Bounds(lb, ub)\n\u001b[1;32m   1023\u001b[0m \u001b[38;5;28;01melif\u001b[39;00m meth \u001b[38;5;129;01min\u001b[39;00m (\u001b[38;5;124m'\u001b[39m\u001b[38;5;124ml-bfgs-b\u001b[39m\u001b[38;5;124m'\u001b[39m, \u001b[38;5;124m'\u001b[39m\u001b[38;5;124mtnc\u001b[39m\u001b[38;5;124m'\u001b[39m, \u001b[38;5;124m'\u001b[39m\u001b[38;5;124mslsqp\u001b[39m\u001b[38;5;124m'\u001b[39m, \u001b[38;5;124m'\u001b[39m\u001b[38;5;124mold\u001b[39m\u001b[38;5;124m'\u001b[39m):\n",
      "File \u001b[0;32m~/miniconda3/envs/jax_a1/lib/python3.9/site-packages/scipy/optimize/_constraints.py:429\u001b[0m, in \u001b[0;36mold_bound_to_new\u001b[0;34m(bounds)\u001b[0m\n\u001b[1;32m    420\u001b[0m \u001b[38;5;28;01mdef\u001b[39;00m \u001b[38;5;21mold_bound_to_new\u001b[39m(bounds):\n\u001b[1;32m    421\u001b[0m \u001b[38;5;250m    \u001b[39m\u001b[38;5;124;03m\"\"\"Convert the old bounds representation to the new one.\u001b[39;00m\n\u001b[1;32m    422\u001b[0m \n\u001b[1;32m    423\u001b[0m \u001b[38;5;124;03m    The new representation is a tuple (lb, ub) and the old one is a list\u001b[39;00m\n\u001b[0;32m   (...)\u001b[0m\n\u001b[1;32m    427\u001b[0m \u001b[38;5;124;03m    -np.inf/np.inf.\u001b[39;00m\n\u001b[1;32m    428\u001b[0m \u001b[38;5;124;03m    \"\"\"\u001b[39;00m\n\u001b[0;32m--> 429\u001b[0m     lb, ub \u001b[38;5;241m=\u001b[39m \u001b[38;5;28;43mzip\u001b[39;49m\u001b[43m(\u001b[49m\u001b[38;5;241;43m*\u001b[39;49m\u001b[43mbounds\u001b[49m\u001b[43m)\u001b[49m\n\u001b[1;32m    431\u001b[0m     \u001b[38;5;66;03m# Convert occurrences of None to -inf or inf, and replace occurrences of\u001b[39;00m\n\u001b[1;32m    432\u001b[0m     \u001b[38;5;66;03m# any numpy array x with x.item(). Then wrap the results in numpy arrays.\u001b[39;00m\n\u001b[1;32m    433\u001b[0m     lb \u001b[38;5;241m=\u001b[39m np\u001b[38;5;241m.\u001b[39marray([\u001b[38;5;28mfloat\u001b[39m(_arr_to_scalar(x)) \u001b[38;5;28;01mif\u001b[39;00m x \u001b[38;5;129;01mis\u001b[39;00m \u001b[38;5;129;01mnot\u001b[39;00m \u001b[38;5;28;01mNone\u001b[39;00m \u001b[38;5;28;01melse\u001b[39;00m \u001b[38;5;241m-\u001b[39mnp\u001b[38;5;241m.\u001b[39minf\n\u001b[1;32m    434\u001b[0m                    \u001b[38;5;28;01mfor\u001b[39;00m x \u001b[38;5;129;01min\u001b[39;00m lb])\n",
      "\u001b[0;31mTypeError\u001b[0m: 'int' object is not iterable"
     ]
    }
   ],
   "source": [
    "if __name__ == \"__main__\":\n",
    "    for th in ths:\n",
    "        for R in Rs:\n",
    "            T = int(th / dt)\n",
    "            Framerates = 30\n",
    "            x_0 = np.array([0, -0.1, 0., 0.])\n",
    "            # set inintial state\n",
    "            ctrl = jnp.zeros((int(th / dt), 1))\n",
    "            ctrl = SAC(x_0, ctrl)\n",
    "        \n",
    "            log = []\n",
    "            u_log = []\n",
    "            cost_log = []\n",
    "        \n",
    "            # print(\"nv is \", mj_model.nv)\n",
    "            # print(\"nu is \", mj_model.nu)\n",
    "            # print(\"nq is \", mj_model.nq)\n",
    "            frames = []\n",
    "            time_now = 0\n",
    "            for t in range(int(tf/dt)):\n",
    "                step_start = time.time()\n",
    "                time_sac = time.time()\n",
    "                log.append(np.array(x_0))\n",
    "                ctrl = SAC(x_0, ctrl) # jnp.array([0])\n",
    "                u_log.append(np.array(ctrl[0]))\n",
    "                # print(\"one iteration for sac is \", time.time() - time_sac)\n",
    "                # print(\"ctrl is \", ctrl[0])\n",
    "                x_0 = step_forward(x_0, ctrl[0])[0]\n",
    "                time_now += dt\n",
    "                if len(frames) < time_now * Framerates:\n",
    "                    renderer.update_scene(mj_data, camera, scene_option)\n",
    "                    pixels = renderer.render()\n",
    "                    frames.append(pixels)\n",
    "\n",
    "            z = np.stack(log)\n",
    "            v = np.stack(u_log)\n",
    "            plt.plot(z)\n",
    "            plt.stem(v, 'k')\n",
    "            plt.title(\"Prediction Horizon :{}, R: {}\".format(th, R))\n",
    "            plt.legend(['position','angle','velocity','angular velocity','ctrl'])\n",
    "            plt.savefig(\"./figs/cartpole_th_%s_R_%s.png\"%(str(th)[:3].replace(\".\", \"_\"), str(R).replace(\".\", \"_\"))) \n",
    "            plt.close()\n",
    "            media.write_video('./videos/cartpole_th_%s_R_%s.mp4'%(str(th)[:3].replace(\".\", \"_\"), str(R).replace(\".\", \"_\")), frames, fps=Framerates)\n",
    "\n",
    "\n"
   ]
  },
  {
   "cell_type": "code",
   "execution_count": null,
   "id": "f9dc22e2-39e3-4c54-8de4-01cf0522bb59",
   "metadata": {},
   "outputs": [],
   "source": [
    "z = np.stack(log)\n",
    "v = np.stack(u_log)\n",
    "plt.plot(z)\n",
    "plt.stem(v, 'k')\n",
    "plt.legend(['position','angle','velocity','angular velocity','ctrl'])\n",
    "plt.savefig(\"cartpole.png\") \n",
    "plt.show()"
   ]
  },
  {
   "cell_type": "code",
   "execution_count": null,
   "id": "99bfb7f092529c66",
   "metadata": {
    "ExecuteTime": {
     "end_time": "2024-06-18T01:33:45.554606Z",
     "start_time": "2024-06-18T01:33:45.405181Z"
    },
    "collapsed": false,
    "jupyter": {
     "outputs_hidden": false
    },
    "scrolled": true
   },
   "outputs": [],
   "source": [
    "media.write_video('cartpole.mp4', frames, fps=Framerates)\n",
    "media.show_video(media.read_video('cartpole.mp4'), fps=Framerates) # , fps=FRAMERATE"
   ]
  },
  {
   "cell_type": "code",
   "execution_count": null,
   "id": "372cfad5-688f-4947-af57-d63fdee1c525",
   "metadata": {},
   "outputs": [],
   "source": []
  },
  {
   "cell_type": "code",
   "execution_count": null,
   "id": "92db06f2-07b5-48b4-96ee-723631ba2eda",
   "metadata": {},
   "outputs": [],
   "source": []
  }
 ],
 "metadata": {
  "kernelspec": {
   "display_name": "Python 3 (ipykernel)",
   "language": "python",
   "name": "python3"
  },
  "language_info": {
   "codemirror_mode": {
    "name": "ipython",
    "version": 3
   },
   "file_extension": ".py",
   "mimetype": "text/x-python",
   "name": "python",
   "nbconvert_exporter": "python",
   "pygments_lexer": "ipython3",
   "version": "3.9.16"
  }
 },
 "nbformat": 4,
 "nbformat_minor": 5
}
