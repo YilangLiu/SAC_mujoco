{
 "cells": [
  {
   "cell_type": "markdown",
   "id": "908edae9c6fe530a",
   "metadata": {
    "collapsed": false,
    "jupyter": {
     "outputs_hidden": false
    }
   },
   "source": [
    "# Sequential Action Control Example for cartpole "
   ]
  },
  {
   "cell_type": "markdown",
   "id": "472ad883e5d4f861",
   "metadata": {
    "collapsed": false,
    "jupyter": {
     "outputs_hidden": false
    }
   },
   "source": [
    "## Import necessary package"
   ]
  },
  {
   "cell_type": "code",
   "execution_count": 1,
   "id": "d694d3a8ee9c665d",
   "metadata": {
    "collapsed": false,
    "jupyter": {
     "outputs_hidden": false
    }
   },
   "outputs": [],
   "source": [
    "import mujoco\n",
    "import mujoco.viewer\n",
    "import numpy as np\n",
    "\n",
    "import jax\n",
    "import jax.numpy as jnp\n",
    "from jax import jacfwd, grad, vmap, jit\n",
    "import time\n",
    "import matplotlib.pyplot as plt\n",
    "import mediapy as media\n",
    "from tqdm import tqdm"
   ]
  },
  {
   "cell_type": "markdown",
   "id": "99ab9f0d3ff9b916",
   "metadata": {
    "collapsed": false,
    "jupyter": {
     "outputs_hidden": false
    }
   },
   "source": [
    "## Define the necessary function for the rollout  "
   ]
  },
  {
   "cell_type": "markdown",
   "id": "c8feae2a83e04e37",
   "metadata": {
    "collapsed": false,
    "jupyter": {
     "outputs_hidden": false
    }
   },
   "source": [
    "### Then we need to define additional functions \n",
    "\n",
    "**step_forward(x_0, u)**. This function assumes non-linear dynamics $f$ and the next state is $x_{t+1} = f(x_t, u_t)$\n",
    "\n",
    "\n",
    "**get_dfdx_dfdu(x_0, u)**. Find continuous time derivative of the dynamics $\\frac{\\partial f}{\\partial x}$ and $\\frac{\\partial f}{\\partial u}$ From discrete dynamics to continuous dynamics:\n",
    "$$\n",
    "    \\dot{x} = f_c(x,u) =  A_cx + B_cu\n",
    "$$\n",
    "$$\n",
    "    x_{t+1} = x_t + \\dot{x} * dt = x_t + \\left[ A_cx_t + B_cu_t \\right] dt\n",
    "$$\n",
    "$$\n",
    "    x_{t+1} = (I + A_cdt)x_t + B_cu_tdt \n",
    "$$\n",
    "So we can get relationship between the discrete dynamics and continuous dynamics $A_d = (I + A_cdt)$ and $B_d = B_c dt$\n",
    "\n",
    "**get_f(x_0, u)**. Get continuous version of the dynamics $\\dot{x} = f_c(x,u)$\n",
    "$$\n",
    "    x_{t+1} = x_t + f_c(x_t,u_t)dt \n",
    "$$"
   ]
  },
  {
   "cell_type": "code",
   "execution_count": 2,
   "id": "76ccc9abe3a6ddef",
   "metadata": {
    "ExecuteTime": {
     "end_time": "2024-06-18T01:29:46.285835Z",
     "start_time": "2024-06-18T01:29:46.248966Z"
    },
    "collapsed": false,
    "jupyter": {
     "outputs_hidden": false
    }
   },
   "outputs": [],
   "source": [
    "def step_forward(x_0:np.array, u:np.array):\n",
    "    # make sure the shape of control is the dimension of the torque\n",
    "    assert (u.shape[0] ==  mj_model.nu)\n",
    "    assert (x_0.shape[0] == mj_model.nq + mj_model.nv)\n",
    "    state = get_state(mj_model, mj_data)\n",
    "    ctrl = mj_data.ctrl\n",
    "    \n",
    "    mj_data.qpos = x_0[:mj_model.nq]\n",
    "    mj_data.qvel = x_0[mj_model.nq:]\n",
    "    mj_data.act = []\n",
    "    mj_data.ctrl = u.reshape(mj_model.nu,)\n",
    "    mujoco.mj_step(mj_model, mj_data)\n",
    "    \n",
    "    next_state = np.concatenate((mj_data.qpos, mj_data.qvel), axis=0)\n",
    "    mujoco.mj_setState(mj_model, mj_data, state, mujoco.mjtState.mjSTATE_FULLPHYSICS)\n",
    "    mujoco.mj_setState(mj_model, mj_data, ctrl, mujoco.mjtState.mjSTATE_CTRL)\n",
    "    \n",
    "    return next_state, x_0\n",
    "\n",
    "def get_state(model, data):\n",
    "    nstate = mujoco.mj_stateSize(model, mujoco.mjtState.mjSTATE_FULLPHYSICS)\n",
    "    state = np.empty(nstate)\n",
    "    mujoco.mj_getState(model, data, state, mujoco.mjtState.mjSTATE_FULLPHYSICS)\n",
    "    return state.reshape((nstate, 1))\n",
    "\n",
    "def get_dfdx_dfdu(x: np.array, u: np.array):\n",
    "    # Find continuous time derivative of the dynamics in MuJoCo\n",
    "    # we might want to decrease the dt here to get better finite differencing\n",
    "    assert (x.shape[0] == mj_model.nq + mj_model.nv)\n",
    "\n",
    "    mujoco.mj_resetData(mj_model, mj_data)\n",
    "    mj_data.qpos = x[:mj_model.nq]\n",
    "    mj_data.qvel = x[mj_model.nq:]\n",
    "    mj_data.ctrl = u.reshape(mj_model.nu, )\n",
    "\n",
    "    dfdx_mujoco = np.zeros((2 * mj_model.nv, 2 * mj_model.nv))\n",
    "    dfdu_mujoco = np.zeros((2 * mj_model.nv, mj_model.nu))\n",
    "    epsilon = 1e-6\n",
    "    flg_centered = True\n",
    "\n",
    "    mj_model.opt.timestep = 1e-5\n",
    "    mujoco.mjd_transitionFD(mj_model, mj_data, epsilon, flg_centered, dfdx_mujoco, dfdu_mujoco, None, None)\n",
    "    \n",
    "    conti_A = (dfdx_mujoco - np.eye(dfdx_mujoco.shape[0])) / mj_model.opt.timestep\n",
    "    conti_B = dfdu_mujoco / mj_model.opt.timestep\n",
    "\n",
    "    mj_model.opt.timestep = dt\n",
    "    return  conti_A, conti_B \n",
    "\n",
    "def get_f(x,u):\n",
    "    mj_model.opt.timestep = 1e-5\n",
    "    # get continuous version of the dynamics using finite difference\n",
    "    x_next = step_forward(x,u)[0]\n",
    "    f_c = (x_next - x) / mj_model.opt.timestep\n",
    "    mj_model.opt.timestep = dt\n",
    "    return f_c"
   ]
  },
  {
   "cell_type": "markdown",
   "id": "34ff589da994e58",
   "metadata": {
    "collapsed": false,
    "jupyter": {
     "outputs_hidden": false
    }
   },
   "source": [
    "## Define terminal cost and step cost. Get its gradient"
   ]
  },
  {
   "cell_type": "code",
   "execution_count": 3,
   "id": "accd4617b68e4065",
   "metadata": {
    "ExecuteTime": {
     "end_time": "2024-06-18T01:29:46.285935Z",
     "start_time": "2024-06-18T01:29:46.251731Z"
    },
    "collapsed": false,
    "jupyter": {
     "outputs_hidden": false
    }
   },
   "outputs": [],
   "source": [
    "def term_cost(x):\n",
    "    q,qdot = jnp.split(x,2)\n",
    "    return -1.0*jnp.cos(q[1])  + 0.01* qdot@qdot + 0.1* q[0]**2"
   ]
  },
  {
   "cell_type": "code",
   "execution_count": 4,
   "id": "578597c6fc790e63",
   "metadata": {
    "ExecuteTime": {
     "end_time": "2024-06-18T01:29:46.287771Z",
     "start_time": "2024-06-18T01:29:46.255696Z"
    },
    "collapsed": false,
    "jupyter": {
     "outputs_hidden": false
    }
   },
   "outputs": [],
   "source": [
    "def running_cost(x, u):\n",
    "    q,qdot = jnp.split(x,2)\n",
    "    ell = -10.0*jnp.cos(q[1])  + 0.00001*jnp.sum(u**2) + 0.01 * qdot@qdot + 0.1 *q[0]**2\n",
    "    return ell"
   ]
  },
  {
   "cell_type": "markdown",
   "id": "ae9853bcd7e40e52",
   "metadata": {
    "collapsed": false,
    "jupyter": {
     "outputs_hidden": false
    }
   },
   "source": [
    "## Define Scan function where is the replicate of jax scan \n",
    "\n",
    "Scan function can be used to perform forward rollout and backward rollout "
   ]
  },
  {
   "cell_type": "code",
   "execution_count": 5,
   "id": "3f98e24489cd6e95",
   "metadata": {
    "ExecuteTime": {
     "end_time": "2024-06-18T01:29:46.293608Z",
     "start_time": "2024-06-18T01:29:46.259658Z"
    },
    "collapsed": false,
    "jupyter": {
     "outputs_hidden": false
    }
   },
   "outputs": [],
   "source": [
    "def scan(f, init, xs, length=None):\n",
    "  # replacement of jax scan function to make it compatible with\n",
    "  # the mujoco which is not using jax\n",
    "  if xs is None:\n",
    "    xs = [None] * length\n",
    "  carry = init\n",
    "  ys = []\n",
    "  for x in xs:\n",
    "    carry, y = f(carry, x)\n",
    "    ys.append(y)\n",
    "  return carry, jnp.stack(ys)"
   ]
  },
  {
   "cell_type": "markdown",
   "id": "0c82a5da-f3b9-4738-a750-0f4431bc1735",
   "metadata": {
    "jp-MarkdownHeadingCollapsed": true
   },
   "source": [
    "### Test case for scan function "
   ]
  },
  {
   "cell_type": "code",
   "execution_count": 6,
   "id": "9787af10-fc5a-4d34-b026-94cedac59904",
   "metadata": {},
   "outputs": [],
   "source": [
    "# key = jax.random.PRNGKey(758493)  # Random seed is explicit in JAX\n",
    "\n",
    "# xml_path = \"./cartpole.xml\"\n",
    "# mj_model = mujoco.MjModel.from_xml_path(xml_path)\n",
    "# mj_data = mujoco.MjData(mj_model)\n",
    "# x_0 = np.array([0, 3.1, 0., 0.])\n",
    "# u = (jax.random.uniform(key, shape=(20, 1))- 0.5) *2 \n",
    "\n",
    "# # test scan \n",
    "# x_term, X = forward_sim(x_0, u)\n",
    "\n",
    "# # ground truth \n",
    "# X_t = [x_0]\n",
    "# for i in u:\n",
    "#     x, _ = step_forward(X_t[-1], i)\n",
    "#     X_t.append(x)\n",
    "# X_t = jnp.array(X_t)\n",
    "# print(jnp.array_equal(X, X_t[:-1]))\n",
    "# print(jnp.array_equal(x_term, X_t[-1]))\n"
   ]
  },
  {
   "cell_type": "markdown",
   "id": "9acd406c16bd6d4c",
   "metadata": {
    "collapsed": false,
    "jupyter": {
     "outputs_hidden": false
    }
   },
   "source": [
    "## Get backward simulation given a finite horizon "
   ]
  },
  {
   "cell_type": "markdown",
   "id": "5ec116a9-6212-4add-8183-c7b28f9de8c0",
   "metadata": {},
   "source": [
    "We can backpropogate the co-state from $t_f$ to $t_0$\n",
    "$$\n",
    "\\dot{\\rho} = -\\nabla l_1(x) - D_x f(x, u_{def})^T\\rho\n",
    "$$\n",
    "\n",
    "In discrete time, we will have\n",
    "$$\n",
    "\\rho_{t-1} = \\rho_{t} - \\dot{\\rho}_t * dt\n",
    "$$"
   ]
  },
  {
   "cell_type": "code",
   "execution_count": 7,
   "id": "5240e5a68840c565",
   "metadata": {
    "ExecuteTime": {
     "end_time": "2024-06-18T01:29:46.293821Z",
     "start_time": "2024-06-18T01:29:46.263496Z"
    },
    "collapsed": false,
    "jupyter": {
     "outputs_hidden": false
    }
   },
   "outputs": [],
   "source": [
    "def drhodt(rho, v, u):\n",
    "    dfdx_mujoco, dfdu_mujoco = get_dfdx_dfdu(v, u)\n",
    "    return  - Drunning_cost(v,u) - dfdx_mujoco.T @ rho\n",
    "\n",
    "def F_backward(rho, v):\n",
    "    x, u = v[:mj_model.nq + mj_model.nv], v[mj_model.nq + mj_model.nv:]\n",
    "    assert (x.shape[0] == mj_model.nq + mj_model.nv)\n",
    "    assert (u.shape[0] == mj_model.nu)\n",
    "    rhodot = drhodt(rho, x, u)\n",
    "    rhop = rho - dt * rhodot\n",
    "    return rhop, rhop"
   ]
  },
  {
   "cell_type": "code",
   "execution_count": 8,
   "id": "3ebb4038cc5ddda",
   "metadata": {
    "ExecuteTime": {
     "end_time": "2024-06-18T01:29:46.293882Z",
     "start_time": "2024-06-18T01:29:46.273737Z"
    },
    "collapsed": false,
    "jupyter": {
     "outputs_hidden": false
    }
   },
   "outputs": [],
   "source": [
    "# get the gradient using jax grad \n",
    "Dterm_cost = grad(term_cost)\n",
    "Drunning_cost = grad(running_cost)\n",
    "forward_sim = lambda x0, u: scan(step_forward, x0, u)\n",
    "backward_sim = lambda rho0, v, u: scan(F_backward, rho0, jnp.concatenate([v[::-1], u[::-1]], axis=1))"
   ]
  },
  {
   "cell_type": "markdown",
   "id": "2ce64d17ed306fee",
   "metadata": {
    "collapsed": false,
    "jupyter": {
     "outputs_hidden": false
    }
   },
   "source": [
    "### Find Optimal control \n",
    "\n",
    "Here we can find the optimal control by minimizing the auxiliary objective function $l_2$ \n",
    "\n",
    "$$l_2 (\\tau, u_2(\\tau)) = \\frac{dJ}{d\\lambda}(\\tau, u_2(\\tau)) + || u_2(\\tau) ||_R^2 $$\n",
    "where $\\frac{dJ}{d\\lambda} $ is the mode insertion gradient\n",
    "$$ \\frac{dJ}{d\\lambda}(\\tau, u_2(\\tau)) = \\rho^T(\\tau) \\cdot \\left[ f(x\\left(\\tau), u^\\star(\\tau)\\right) - f(x(\\tau), u_{def}(\\tau)) \\right] $$\n",
    "Then we find the optimal control:\n",
    "$$\n",
    "    argmin_{u^\\star(\\tau)} l_2 \n",
    "$$\n",
    "$$\n",
    "  argmin_{u^\\star(\\tau)}  \\rho^T(\\tau) \\cdot \\left[ f(x\\left(\\tau), u^\\star(\\tau)\\right) - f(x(\\tau), u_{def}(\\tau)) \\right] + || u_2(\\tau) ||_R^2\n",
    "$$\n",
    "Take the gradient of the objective function:\n",
    "$$\n",
    "    \\frac{\\partial l_2}{\\partial u^\\star(\\tau)} = Ru^\\star + \\rho^T \\frac{\\partial f}{\\partial u^\\star(\\tau)}(x(\\tau), u^\\star)\n",
    "$$\n",
    "We use gradient descent to find the optimal control across the time horizon \n",
    "$$\n",
    "    u^\\star = u^\\star - \\alpha * \\frac{\\partial l_2}{\\partial u^\\star(\\tau)}\n",
    "$$\n",
    "where $\\alpha$ is the learning rate"
   ]
  },
  {
   "cell_type": "code",
   "execution_count": 9,
   "id": "68a6fac4855b9de6",
   "metadata": {
    "ExecuteTime": {
     "end_time": "2024-06-18T01:29:46.293940Z",
     "start_time": "2024-06-18T01:29:46.276914Z"
    },
    "collapsed": false,
    "jupyter": {
     "outputs_hidden": false
    }
   },
   "outputs": [],
   "source": [
    "def l2(x, u1, u2,rho):\n",
    "    return 1/2*R*(u2-u1)**2 + rho @ (get_f(x,u2) - get_f(x, u1))\n",
    "\n",
    "def Dl2Du(x, u1, u2 ,rho):\n",
    "    # u2 is u_star and u1 is udef\n",
    "    dfdx_mujoco, dfdu_mujoco = get_dfdx_dfdu(x, u2)\n",
    "    return R*(u2-u1) + rho @ dfdu_mujoco\n",
    "\n",
    "def u_tau(x, rho, udef):\n",
    "    # here we use gradient descen to find the best actions\n",
    "    # set intial guess of the control, u_star = u_def\n",
    "    u_star = np.array([0.]) # np.array([-0.1]) \n",
    "    u_stars = [u_star]\n",
    "    # use gradient descent to update the optimal control \n",
    "    error = 1 \n",
    "    idx = 0 \n",
    "    # print(\"before l2 \", l2(x, udef, u_star,rho))\n",
    "    while error > 0.001:\n",
    "        u_star = u_star - 0.1 * Dl2Du(x, udef, u_star, rho)\n",
    "        idx += 1\n",
    "        error = np.linalg.norm(u_star - u_stars[-1])\n",
    "        u_stars.append(u_star)\n",
    "        if idx >= 300:\n",
    "            break\n",
    "    # print(\"after l2 \", l2(x, udef, u_star,rho))\n",
    "    # dfdx_mujoco, dfdu_mujoco = get_dfdx_dfdu(x, udef)\n",
    "    # np.clip((-rho @ dfdu_mujoco + udef), -1., 1.)\n",
    "    return np.clip(u_star, -1. , 1.)"
   ]
  },
  {
   "cell_type": "markdown",
   "id": "ee77800e51c72155",
   "metadata": {
    "collapsed": false,
    "jupyter": {
     "outputs_hidden": false
    }
   },
   "source": [
    "Find Optimal Time to Act"
   ]
  },
  {
   "cell_type": "code",
   "execution_count": 10,
   "id": "7973eb5ebef794fe",
   "metadata": {
    "ExecuteTime": {
     "end_time": "2024-06-18T01:29:46.294282Z",
     "start_time": "2024-06-18T01:29:46.279543Z"
    },
    "collapsed": false,
    "jupyter": {
     "outputs_hidden": false
    }
   },
   "outputs": [],
   "source": [
    "def dJdlam(rho, x, u2, u1):\n",
    "    assert(x.shape[0] == mj_model.nq + mj_model.nv)\n",
    "    assert(rho.shape[0] == 2*mj_model.nv)\n",
    "    temp = get_f(x,u2) - get_f(x, u1)\n",
    "    return rho.T @ temp"
   ]
  },
  {
   "cell_type": "markdown",
   "id": "f452c1124a320f6f",
   "metadata": {
    "collapsed": false,
    "jupyter": {
     "outputs_hidden": false
    }
   },
   "source": [
    "## Main code for SAC "
   ]
  },
  {
   "cell_type": "code",
   "execution_count": 11,
   "id": "92d06c616506020a",
   "metadata": {
    "ExecuteTime": {
     "end_time": "2024-06-18T01:29:46.295834Z",
     "start_time": "2024-06-18T01:29:46.289570Z"
    },
    "collapsed": false,
    "jupyter": {
     "outputs_hidden": false
    }
   },
   "outputs": [],
   "source": [
    "def SAC(x0, U1):\n",
    "    U1 = U1.at[:-1, :].set(U1[1:, :])\n",
    "    U1 = U1.at[-1, :].set(U1[-1, :])\n",
    "    \n",
    "    xf, X = forward_sim(x0, U1)\n",
    "    rhof = np.array(Dterm_cost(xf))\n",
    "    # Here rhof is 2*mj_model.nv\n",
    "    rho0, rho = backward_sim(rhof, X, U1)\n",
    "\n",
    "    U_tau = np.stack(list(map(lambda x_map, rho_map, u_map: u_tau(x_map, rho_map, u_map), X, rho[::-1], U1)))\n",
    "\n",
    "    tau_idx = np.argmin(np.stack(list(\n",
    "        map(lambda rho_map, x_map, u_2_map, u1_map: dJdlam(rho_map, x_map, u_2_map, u1_map), rho[::-1], X, U_tau,\n",
    "            U1)))) \n",
    "    \n",
    "    u_star = U_tau[tau_idx]\n",
    "    # line search\n",
    "    J_best = np.inf\n",
    "    lam_idx_best = 0\n",
    "\n",
    "    for lam_idx in range(0, T - tau_idx + 1):\n",
    "        _U2 = U1.at[tau_idx:tau_idx + lam_idx].set(u_star)\n",
    "        _xf, _X = forward_sim(x0, _U2)\n",
    "        J_line = np.mean(np.stack(list(map(lambda X, U: running_cost(X, U), _X, _U2))))      \n",
    "        if J_line < J_best:\n",
    "            J_best = J_line\n",
    "            lam_idx_best = lam_idx\n",
    "    # print(\"J line search results: \", J_line, lam_idx, J_best, lam_idx_best)\n",
    "    return U1.at[tau_idx:tau_idx + lam_idx_best].set(u_star)"
   ]
  },
  {
   "cell_type": "markdown",
   "id": "3f9f835788db6172",
   "metadata": {
    "collapsed": false,
    "jupyter": {
     "outputs_hidden": false
    }
   },
   "source": [
    "## Main Simulation "
   ]
  },
  {
   "cell_type": "code",
   "execution_count": 12,
   "id": "b5fc06bc942c1131",
   "metadata": {
    "ExecuteTime": {
     "end_time": "2024-06-18T01:29:46.370695Z",
     "start_time": "2024-06-18T01:29:46.329853Z"
    },
    "collapsed": false,
    "jupyter": {
     "outputs_hidden": false
    }
   },
   "outputs": [],
   "source": [
    "# Make new camera, set distance.\n",
    "dt = 0.01\n",
    "ths = np.array([0.03]) # np.arange(0.4, 1.5, 0.1)\n",
    "tf = 2\n",
    "Rs =  np.array([0.001])# [0.001, 0.01, 0.1, 1.0, 10.0, 100.0, 1000.0]\n",
    "xml_path = \"./cartpole.xml\"\n",
    "mj_model = mujoco.MjModel.from_xml_path(xml_path)\n",
    "mj_data = mujoco.MjData(mj_model)\n",
    "mj_model.opt.timestep = dt\n",
    "\n",
    "camera = mujoco.MjvCamera()\n",
    "mujoco.mjv_defaultFreeCamera(mj_model, camera)\n",
    "camera.distance = 4.0\n",
    "\n",
    "# Enable contact force visualisation.\n",
    "scene_option = mujoco.MjvOption()\n",
    "\n",
    "# New renderer instance with higher resolution.\n",
    "renderer = mujoco.Renderer(mj_model, width=1280, height=720)"
   ]
  },
  {
   "cell_type": "code",
   "execution_count": 13,
   "id": "746937e1ff061a0e",
   "metadata": {
    "ExecuteTime": {
     "end_time": "2024-06-18T01:29:51.442814Z",
     "start_time": "2024-06-18T01:29:46.380544Z"
    },
    "collapsed": false,
    "jupyter": {
     "outputs_hidden": false
    }
   },
   "outputs": [
    {
     "name": "stderr",
     "output_type": "stream",
     "text": [
      "100%|█████████████████████████████████████████████| 1/1 [00:07<00:00,  7.29s/it]\n"
     ]
    }
   ],
   "source": [
    "if __name__ == \"__main__\":\n",
    "    for th in tqdm(ths):\n",
    "        for R in Rs:\n",
    "            T = int(th / dt)\n",
    "            Framerates = 30\n",
    "            x_0 = np.array([0, 0.2, 0., 0.])\n",
    "            # set inintial state\n",
    "            ctrl = jnp.zeros((int(th / dt), 1))\n",
    "            ctrl = SAC(x_0, ctrl)\n",
    "        \n",
    "            log = []\n",
    "            u_log = []\n",
    "            cost_log = []\n",
    "        \n",
    "            # print(\"nv is \", mj_model.nv)\n",
    "            # print(\"nu is \", mj_model.nu)\n",
    "            # print(\"nq is \", mj_model.nq)\n",
    "            frames = []\n",
    "            time_now = 0\n",
    "            for t in range(int(tf/dt)):\n",
    "                step_start = time.time()\n",
    "                time_sac = time.time()\n",
    "                log.append(np.array(x_0))\n",
    "                ctrl = SAC(x_0, ctrl) # jnp.array([0])\n",
    "                u_log.append(np.array(ctrl[0]))\n",
    "                # print(\"one iteration for sac is \", time.time() - time_sac)\n",
    "                # print(\"ctrl is \", ctrl[0])\n",
    "                x_0 = step_forward(x_0, ctrl[0])[0]\n",
    "                time_now += dt\n",
    "                if len(frames) < time_now * Framerates:\n",
    "                    renderer.update_scene(mj_data, camera, scene_option)\n",
    "                    pixels = renderer.render()\n",
    "                    frames.append(pixels)\n",
    "\n",
    "            z = np.stack(log)\n",
    "            v = np.stack(u_log)\n",
    "            plt.plot(z)\n",
    "            plt.stem(v, 'k')\n",
    "            plt.title(\"Prediction Horizon :{}, R: {}\".format(th, R))\n",
    "            plt.legend(['position','angle','velocity','angular velocity','ctrl'])\n",
    "            plt.savefig(\"./figs/cartpole_th_%s_R_%s.png\"%(str(th)[:3].replace(\".\", \"_\"), str(R).replace(\".\", \"_\"))) \n",
    "            plt.close()\n",
    "            media.write_video('./videos/cartpole_th_%s_R_%s.mp4'%(str(th)[:3].replace(\".\", \"_\"), str(R).replace(\".\", \"_\")), frames, fps=Framerates)\n",
    "\n",
    "\n"
   ]
  },
  {
   "cell_type": "code",
   "execution_count": 14,
   "id": "f9dc22e2-39e3-4c54-8de4-01cf0522bb59",
   "metadata": {},
   "outputs": [
    {
     "data": {
      "image/png": "[encoded data removed]",
      "text/plain": [
       "<Figure size 640x480 with 1 Axes>"
      ]
     },
     "metadata": {},
     "output_type": "display_data"
    }
   ],
   "source": [
    "z = np.stack(log)\n",
    "v = np.stack(u_log)\n",
    "plt.plot(z)\n",
    "plt.stem(v, 'k')\n",
    "plt.legend(['position','angle','velocity','angular velocity','ctrl'])\n",
    "plt.savefig(\"cartpole.png\") \n",
    "plt.show()"
   ]
  },
  {
   "cell_type": "code",
   "execution_count": 15,
   "id": "99bfb7f092529c66",
   "metadata": {
    "ExecuteTime": {
     "end_time": "2024-06-18T01:33:45.554606Z",
     "start_time": "2024-06-18T01:33:45.405181Z"
    },
    "collapsed": false,
    "jupyter": {
     "outputs_hidden": false
    },
    "scrolled": true
   },
   "outputs": [
    {
     "data": {
      "text/html": [
       "<table class=\"show_videos\" style=\"border-spacing:0px;\"><tr><td style=\"padding:1px;\"><video controls width=\"1280\" height=\"720\" style=\"object-fit:cover;\" loop autoplay muted>\n",
       "      <source src=\"data:video/mp4;base64,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\" type=\"video/mp4\"/>\n",
       "      This browser does not support the video tag.\n",
       "      </video></td></tr></table>"
      ],
      "text/plain": [
       "<IPython.core.display.HTML object>"
      ]
     },
     "metadata": {},
     "output_type": "display_data"
    }
   ],
   "source": [
    "media.write_video('cartpole.mp4', frames, fps=Framerates)\n",
    "media.show_video(media.read_video('cartpole.mp4'), fps=Framerates) # , fps=FRAMERATE"
   ]
  },
  {
   "cell_type": "code",
   "execution_count": null,
   "id": "372cfad5-688f-4947-af57-d63fdee1c525",
   "metadata": {},
   "outputs": [],
   "source": []
  },
  {
   "cell_type": "code",
   "execution_count": null,
   "id": "92db06f2-07b5-48b4-96ee-723631ba2eda",
   "metadata": {},
   "outputs": [],
   "source": []
  }
 ],
 "metadata": {
  "kernelspec": {
   "display_name": "Python 3 (ipykernel)",
   "language": "python",
   "name": "python3"
  },
  "language_info": {
   "codemirror_mode": {
    "name": "ipython",
    "version": 3
   },
   "file_extension": ".py",
   "mimetype": "text/x-python",
   "name": "python",
   "nbconvert_exporter": "python",
   "pygments_lexer": "ipython3",
   "version": "3.9.16"
  }
 },
 "nbformat": 4,
 "nbformat_minor": 5
}
