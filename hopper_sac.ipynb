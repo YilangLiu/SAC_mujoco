{
 "cells": [
  {
   "cell_type": "markdown",
   "metadata": {},
   "source": [
    "# Sequential Action Control Example for Hopper "
   ]
  },
  {
   "cell_type": "markdown",
   "metadata": {},
   "source": [
    "## Import necessary package"
   ]
  },
  {
   "cell_type": "code",
   "execution_count": 13,
   "metadata": {},
   "outputs": [],
   "source": [
    "import mujoco\n",
    "import mujoco.viewer\n",
    "import numpy as np\n",
    "\n",
    "import jax\n",
    "import jax.numpy as jnp\n",
    "from jax import jacfwd, grad, vmap, jit\n",
    "import time\n",
    "import matplotlib.pyplot as plt\n",
    "import mediapy as media\n",
    "from tqdm import tqdm\n",
    "import scipy"
   ]
  },
  {
   "cell_type": "markdown",
   "metadata": {},
   "source": [
    "## Implementation details of the hopper example\n",
    "\n",
    "Here we need to define the hopper robot. We first define the hopper robot as a non-linear dynamics\n",
    "$$\\dot{x}_t = f(x_t,u_t)$$\n",
    "\n",
    "Basic robot configuration: nv = 6, nu = 3, nq = 6\n",
    "\n",
    "**step_forward(x_0, u)**. This function assumes non-linear dynamics $f$ and the next state is $x_{t+1} = f(x_t, u_t)$\n",
    "\n",
    "\n",
    "**get_dfdx_dfdu(x_0, u)**. Find continuous time derivative of the dynamics $\\frac{\\partial f}{\\partial x}$ and $\\frac{\\partial f}{\\partial u}$ From discrete dynamics to continuous dynamics:\n",
    "$$\n",
    "    \\dot{x} = f_c(x,u) =  A_cx + B_cu\n",
    "$$\n",
    "$$\n",
    "    x_{t+1} = x_t + \\dot{x} * dt = x_t + \\left[ A_cx_t + B_cu_t \\right] dt\n",
    "$$\n",
    "$$\n",
    "    x_{t+1} = (I + A_cdt)x_t + B_cu_tdt \n",
    "$$\n",
    "So we can get relationship between the discrete dynamics and continuous dynamics $A_d = (I + A_cdt)$ and $B_d = B_c dt$\n",
    "\n",
    "**get_f(x_0, u)**. Get continuous version of the dynamics $\\dot{x} = f_c(x,u)$\n",
    "$$\n",
    "    x_{t+1} = x_t + f_c(x_t,u_t)dt "
   ]
  },
  {
   "cell_type": "code",
   "execution_count": 14,
   "metadata": {},
   "outputs": [],
   "source": [
    "def step_forward(x_0:np.array, u:np.array):\n",
    "    # make sure the shape of control is the dimension of the torque\n",
    "    assert (u.shape[0] ==  mj_model.nu)\n",
    "    assert (x_0.shape[0] == mj_model.nq + mj_model.nv)\n",
    "    state = get_state(mj_model, mj_data)\n",
    "    ctrl = mj_data.ctrl\n",
    "    \n",
    "    mj_data.qpos = x_0[:mj_model.nq]\n",
    "    mj_data.qvel = x_0[mj_model.nq:]\n",
    "    mj_data.act = []\n",
    "    mj_data.ctrl = u.reshape(mj_model.nu,)\n",
    "    mujoco.mj_step(mj_model, mj_data)\n",
    "    \n",
    "    next_state = np.concatenate((mj_data.qpos, mj_data.qvel), axis=0)\n",
    "    mujoco.mj_setState(mj_model, mj_data, state, mujoco.mjtState.mjSTATE_FULLPHYSICS)\n",
    "    mujoco.mj_setState(mj_model, mj_data, ctrl, mujoco.mjtState.mjSTATE_CTRL)\n",
    "    \n",
    "    return next_state, x_0\n",
    "\n",
    "def get_state(model, data):\n",
    "    nstate = mujoco.mj_stateSize(model, mujoco.mjtState.mjSTATE_FULLPHYSICS)\n",
    "    state = np.empty(nstate)\n",
    "    mujoco.mj_getState(model, data, state, mujoco.mjtState.mjSTATE_FULLPHYSICS)\n",
    "    return state.reshape((nstate, 1))\n",
    "\n",
    "def get_dfdx_dfdu(x: np.array, u: np.array):\n",
    "    # Find continuous time derivative of the dynamics in MuJoCo\n",
    "    # we might want to decrease the dt here to get better finite differencing\n",
    "    assert (x.shape[0] == mj_model.nq + mj_model.nv)\n",
    "\n",
    "    mujoco.mj_resetData(mj_model, mj_data)\n",
    "    mj_data.qpos = x[:mj_model.nq]\n",
    "    mj_data.qvel = x[mj_model.nq:]\n",
    "    mj_data.ctrl = u.reshape(mj_model.nu, )\n",
    "\n",
    "    dfdx_mujoco = np.zeros((2 * mj_model.nv, 2 * mj_model.nv))\n",
    "    dfdu_mujoco = np.zeros((2 * mj_model.nv, mj_model.nu))\n",
    "    epsilon = 1e-6\n",
    "    flg_centered = True\n",
    "\n",
    "    mj_model.opt.timestep = 1e-6\n",
    "    mujoco.mjd_transitionFD(mj_model, mj_data, epsilon, flg_centered, dfdx_mujoco, dfdu_mujoco, None, None)\n",
    "    \n",
    "    conti_A = (dfdx_mujoco - np.eye(dfdx_mujoco.shape[0])) / mj_model.opt.timestep\n",
    "    conti_B = dfdu_mujoco / mj_model.opt.timestep\n",
    "\n",
    "    mj_model.opt.timestep = dt\n",
    "    return  conti_A, conti_B \n",
    "\n",
    "def get_f(x,u):\n",
    "    mj_model.opt.timestep = 1e-6\n",
    "    # get continuous version of the dynamics using finite difference\n",
    "    x_next = step_forward(x,u)[0]\n",
    "    f_c = (x_next - x) / mj_model.opt.timestep\n",
    "    mj_model.opt.timestep = dt\n",
    "    return f_c"
   ]
  },
  {
   "cell_type": "markdown",
   "metadata": {},
   "source": [
    "## Define terminal cost and step cost. Get its gradient"
   ]
  },
  {
   "cell_type": "code",
   "execution_count": 15,
   "metadata": {},
   "outputs": [],
   "source": [
    "def term_cost(x):\n",
    "    q,qdot = jnp.split(x, 2)\n",
    "    return (q[:3] - default_pose[:3])@ R[:mj_model.nq, :mj_model.nq] @(q[:3] - default_pose[:3]) + 50 * q[3:]@q[3:] + 0.001 * qdot@qdot\n",
    "\n",
    "def running_cost(x, u):\n",
    "    q,qdot = jnp.split(x,2)\n",
    "    ell = 1* (q[:3] - default_pose[:3])@(q[:3] - default_pose[:3]) + 50 * q[3:]@q[3:] + 0.001 * qdot@qdot + 0.0001 * u@u\n",
    "    return ell"
   ]
  },
  {
   "cell_type": "markdown",
   "metadata": {},
   "source": [
    "## Define Scan function where is the replicate of jax scan \n",
    "\n",
    "Scan function can be used to perform forward rollout and backward rollout "
   ]
  },
  {
   "cell_type": "code",
   "execution_count": 16,
   "metadata": {},
   "outputs": [],
   "source": [
    "def scan(f, init, xs, length=None):\n",
    "  # replacement of jax scan function to make it compatible with\n",
    "  # the mujoco which is not using jax\n",
    "  if xs is None:\n",
    "    xs = [None] * length\n",
    "  carry = init\n",
    "  ys = []\n",
    "  for x in xs:\n",
    "    carry, y = f(carry, x)\n",
    "    ys.append(y)\n",
    "  return carry, jnp.stack(ys)"
   ]
  },
  {
   "cell_type": "markdown",
   "metadata": {},
   "source": [
    "## Get backward simulation given a finite horizon \n",
    "\n",
    "We can backpropogate the co-state from $t_f$ to $t_0$\n",
    "$$\n",
    "\\dot{\\rho} = -\\nabla_x l_1(x,u) - D_x f(x, u_{def})^T\\rho\n",
    "$$\n",
    "\n",
    "In discrete time, we will have\n",
    "$$\n",
    "\\rho_{t-1} = \\rho_{t} - \\dot{\\rho}_t * dt\n",
    "$$"
   ]
  },
  {
   "cell_type": "code",
   "execution_count": 17,
   "metadata": {},
   "outputs": [],
   "source": [
    "def drhodt(rho, v, u):\n",
    "    dfdx_mujoco, dfdu_mujoco = get_dfdx_dfdu(v, u)\n",
    "    return  -Drunning_cost(v,u) - dfdx_mujoco.T @ rho\n",
    "\n",
    "def F_backward(rho, v):\n",
    "    x, u = v[:mj_model.nq + mj_model.nv], v[mj_model.nq + mj_model.nv:]\n",
    "    assert (x.shape[0] == mj_model.nq + mj_model.nv)\n",
    "    assert (u.shape[0] == mj_model.nu)\n",
    "    rhodot = drhodt(rho, x, u)\n",
    "    rhop = rho - dt * rhodot\n",
    "    return rhop, rho"
   ]
  },
  {
   "cell_type": "code",
   "execution_count": 18,
   "metadata": {},
   "outputs": [],
   "source": [
    "# get the gradient using jax grad \n",
    "Dterm_cost = grad(term_cost)\n",
    "Drunning_cost = grad(running_cost)\n",
    "forward_sim = lambda x0, u: scan(step_forward, x0, u)\n",
    "backward_sim = lambda rho0, v, u: scan(F_backward, rho0, jnp.concatenate([v[::-1], u[::-1]], axis=1))"
   ]
  },
  {
   "cell_type": "markdown",
   "metadata": {},
   "source": [
    "### Find Optimal control \n",
    "\n",
    "Here we can find the optimal control by minimizing the auxiliary objective function $l_2$ \n",
    "\n",
    "$$l_2 (\\tau, u_2(\\tau)) = \\frac{dJ}{d\\lambda}(\\tau, u_2(\\tau)) + || u_2(\\tau) ||_R^2 $$\n",
    "where $\\frac{dJ}{d\\lambda} $ is the mode insertion gradient\n",
    "$$ \\frac{dJ}{d\\lambda}(\\tau, u_2(\\tau)) = \\rho^T(\\tau) \\cdot \\left[ f(x\\left(\\tau), u^\\star(\\tau)\\right) - f(x(\\tau), u_{def}(\\tau)) \\right] $$\n",
    "Then we find the optimal control:\n",
    "$$\n",
    "    argmin_{u^\\star(\\tau)} l_2 \n",
    "$$\n",
    "$$\n",
    "  argmin_{u^\\star(\\tau)}  \\rho^T(\\tau) \\cdot \\left[ f(x\\left(\\tau), u^\\star(\\tau)\\right) - f(x(\\tau), u_{def}(\\tau)) \\right] + || u_2(\\tau) ||_R^2\n",
    "$$\n",
    "Take the gradient of the objective function:\n",
    "$$\n",
    "    \\frac{\\partial l_2}{\\partial u^\\star(\\tau)} = R^Tu^\\star + \\rho^T \\frac{\\partial f}{\\partial u^\\star(\\tau)}(x(\\tau), u^\\star)\n",
    "$$\n",
    "We use gradient SLSQP to find the optimal control across the time horizon with control limits \n",
    "$$\n",
    "min_{u_t} \\frac{dJ}{d\\lambda}(x_t, u_t) + || u_t ||_R^2 \\\\ \n",
    "\n",
    "     subject\\, to:   u_{min} \\leq u_t \\leq u_{max}\n",
    "$$"
   ]
  },
  {
   "cell_type": "code",
   "execution_count": 19,
   "metadata": {},
   "outputs": [],
   "source": [
    "def l2(u2, x, u1 ,rho):\n",
    "    return 1/2*R*(u2)**2 + rho @ (get_f(x,u2) - get_f(x, u1))\n",
    "\n",
    "def Dl2Du(u2 , x, u1,rho):\n",
    "    # u2 is u_star and u1 is udef\n",
    "    dfdx_mujoco, dfdu_mujoco = get_dfdx_dfdu(x, u2)\n",
    "    return R*u2 + rho @ dfdu_mujoco"
   ]
  },
  {
   "cell_type": "markdown",
   "metadata": {},
   "source": [
    "### Find Best Control "
   ]
  },
  {
   "cell_type": "code",
   "execution_count": 20,
   "metadata": {},
   "outputs": [],
   "source": [
    "# Test Scipy \n",
    "def u_tau(x, rho, udef):\n",
    "    # here we use gradient descen to find the best actions\n",
    "    initial_guess_u = np.array([0.0])\n",
    "    res = scipy.optimize.minimize(l2, initial_guess_u, args = (x, udef, rho), method='SLSQP', jac = Dl2Du, bounds=[(-1,1)]) \n",
    "    u_star = res.x\n",
    "    return u_star # np.clip(u_star,-1,1)"
   ]
  },
  {
   "cell_type": "markdown",
   "metadata": {},
   "source": [
    "### Find Optimal Time to Act"
   ]
  },
  {
   "cell_type": "code",
   "execution_count": 21,
   "metadata": {},
   "outputs": [],
   "source": [
    "def dJdlam(rho, x, u2, u1):\n",
    "    assert(x.shape[0] == mj_model.nq + mj_model.nv)\n",
    "    assert(rho.shape[0] == 2*mj_model.nv)\n",
    "    temp = get_f(x,u2) - get_f(x, u1)\n",
    "    diff_cost = running_cost(x, u2) - running_cost(x, u1)\n",
    "    return diff_cost + rho.T @ temp # diff_cost +"
   ]
  },
  {
   "cell_type": "markdown",
   "metadata": {},
   "source": [
    "## Main code for SAC "
   ]
  },
  {
   "cell_type": "code",
   "execution_count": 22,
   "metadata": {},
   "outputs": [],
   "source": [
    "def SAC(x0, U1, J_prev):\n",
    "    U1 = U1.at[:-1, :].set(U1[1:, :])\n",
    "    U1 = U1.at[-1, :].set(U1[-1, :])\n",
    "\n",
    "    xf, X = forward_sim(x0, U1) # X = [x0, ..... ,xf)\n",
    "    rhof = Dterm_cost(xf) # np.array([0,0,0,0]) \n",
    "    rho0, rho = backward_sim(rhof, X, U1) # perfrom backward simulation for the adjoint state. rho = [rhof, rho0)\n",
    "\n",
    "    # we have to pop the last from the tho and add the rho0 to the front to make it rho = (rhof, rho0]\n",
    "    # rho = np.concatenate((rho[:-1,:], rho0.reshape((1,-1))),axis=0) # rho = (rhof, rho0]\n",
    "\n",
    "    U_tau = np.stack(list(map(lambda x_map, rho_map, u_map: u_tau(x_map, rho_map, u_map), X, rho[::-1], U1)))\n",
    "\n",
    "    djdlam = np.stack(list(\n",
    "        map(lambda rho_map, x_map, u_2_map, u1_map: dJdlam(rho_map, x_map, u_2_map, u1_map), rho[::-1], X, U_tau, U1)))\n",
    "\n",
    "    tau_idx = np.argmin(djdlam) \n",
    "    plt.close()\n",
    "    u_star = U_tau[tau_idx]\n",
    "    # line search\n",
    "    # J_best = np.inf\n",
    "    lam_idx_best = 0\n",
    "\n",
    "    if djdlam[tau_idx] < 0 :\n",
    "        for lam_idx in range(0, T - tau_idx + 1):\n",
    "            _U2 = U1.at[tau_idx:tau_idx + lam_idx].set(u_star)\n",
    "            _xf, _X = forward_sim(x0, _U2)\n",
    "            J_line = np.mean(np.stack(list(map(lambda X, U: running_cost(X, U), _X, _U2))))      \n",
    "            if J_line < J_prev:\n",
    "                J_prev = J_line\n",
    "                lam_idx_best = lam_idx\n",
    "            # if J_line < J_best:\n",
    "            #     J_best = J_line\n",
    "            #     lam_idx_best = lam_idx\n",
    "        if lam_idx_best == 0:\n",
    "            return jnp.zeros((int(th / dt), 1)), np.inf \n",
    "    else:\n",
    "        return U1, J_prev \n",
    "    \n",
    "    return U1.at[tau_idx:tau_idx + lam_idx_best].set(u_star), J_prev"
   ]
  },
  {
   "cell_type": "markdown",
   "metadata": {},
   "source": [
    "## Main Simulation "
   ]
  },
  {
   "cell_type": "markdown",
   "metadata": {},
   "source": [
    "Here we provide intial condition and parameters of the SAC\n",
    "\n",
    "Description of the hopper model \n",
    "\n",
    "$q =$ [root_x, rootz, rooty, thigh_joint, leg_joint, foot_joint]\n",
    "\n",
    "$u = $ [thigh_joint, leg_joint, foot_joint]"
   ]
  },
  {
   "cell_type": "code",
   "execution_count": 23,
   "metadata": {},
   "outputs": [],
   "source": [
    "# Make new camera, set distance.\n",
    "dt = 0.01\n",
    "ths =  np.array([1.0]) \n",
    "tf = 10\n",
    "Rs = [np.diag([1.0, 1.0, 1.0, 50.0, 50.0, 50.0])] \n",
    "xml_path = \"./mjmodel.xml\"\n",
    "mj_model = mujoco.MjModel.from_xml_path(xml_path)\n",
    "mj_data = mujoco.MjData(mj_model)\n",
    "mj_model.opt.timestep = dt\n",
    "\n",
    "camera = mujoco.MjvCamera()\n",
    "mujoco.mjv_defaultFreeCamera(mj_model, camera)\n",
    "camera.distance = 4.0\n",
    "\n",
    "# Enable contact force visualisation.\n",
    "scene_option = mujoco.MjvOption()\n",
    "\n",
    "# New renderer instance with higher resolution.\n",
    "renderer = mujoco.Renderer(mj_model, width=1280, height=720)"
   ]
  },
  {
   "cell_type": "code",
   "execution_count": 24,
   "metadata": {},
   "outputs": [
    {
     "ename": "AssertionError",
     "evalue": "",
     "output_type": "error",
     "traceback": [
      "\u001b[0;31m---------------------------------------------------------------------------\u001b[0m",
      "\u001b[0;31mAssertionError\u001b[0m                            Traceback (most recent call last)",
      "Cell \u001b[0;32mIn[24], line 10\u001b[0m\n\u001b[1;32m      8\u001b[0m \u001b[38;5;66;03m# set inintial state\u001b[39;00m\n\u001b[1;32m      9\u001b[0m ctrl \u001b[38;5;241m=\u001b[39m jnp\u001b[38;5;241m.\u001b[39mzeros((\u001b[38;5;28mint\u001b[39m(th \u001b[38;5;241m/\u001b[39m dt), \u001b[38;5;241m1\u001b[39m))\n\u001b[0;32m---> 10\u001b[0m ctrl, J_prev \u001b[38;5;241m=\u001b[39m \u001b[43mSAC\u001b[49m\u001b[43m(\u001b[49m\u001b[43mx_0\u001b[49m\u001b[43m,\u001b[49m\u001b[43m \u001b[49m\u001b[43mctrl\u001b[49m\u001b[43m,\u001b[49m\u001b[43m \u001b[49m\u001b[43mJ_prev\u001b[49m\u001b[43m)\u001b[49m\n\u001b[1;32m     12\u001b[0m log \u001b[38;5;241m=\u001b[39m []\n\u001b[1;32m     13\u001b[0m u_log \u001b[38;5;241m=\u001b[39m []\n",
      "Cell \u001b[0;32mIn[22], line 5\u001b[0m, in \u001b[0;36mSAC\u001b[0;34m(x0, U1, J_prev)\u001b[0m\n\u001b[1;32m      2\u001b[0m U1 \u001b[38;5;241m=\u001b[39m U1\u001b[38;5;241m.\u001b[39mat[:\u001b[38;5;241m-\u001b[39m\u001b[38;5;241m1\u001b[39m, :]\u001b[38;5;241m.\u001b[39mset(U1[\u001b[38;5;241m1\u001b[39m:, :])\n\u001b[1;32m      3\u001b[0m U1 \u001b[38;5;241m=\u001b[39m U1\u001b[38;5;241m.\u001b[39mat[\u001b[38;5;241m-\u001b[39m\u001b[38;5;241m1\u001b[39m, :]\u001b[38;5;241m.\u001b[39mset(U1[\u001b[38;5;241m-\u001b[39m\u001b[38;5;241m1\u001b[39m, :])\n\u001b[0;32m----> 5\u001b[0m xf, X \u001b[38;5;241m=\u001b[39m \u001b[43mforward_sim\u001b[49m\u001b[43m(\u001b[49m\u001b[43mx0\u001b[49m\u001b[43m,\u001b[49m\u001b[43m \u001b[49m\u001b[43mU1\u001b[49m\u001b[43m)\u001b[49m \u001b[38;5;66;03m# X = [x0, ..... ,xf)\u001b[39;00m\n\u001b[1;32m      6\u001b[0m rhof \u001b[38;5;241m=\u001b[39m Dterm_cost(xf) \u001b[38;5;66;03m# np.array([0,0,0,0]) \u001b[39;00m\n\u001b[1;32m      7\u001b[0m rho0, rho \u001b[38;5;241m=\u001b[39m backward_sim(rhof, X, U1) \u001b[38;5;66;03m# perfrom backward simulation for the adjoint state. rho = [rhof, rho0)\u001b[39;00m\n",
      "Cell \u001b[0;32mIn[18], line 4\u001b[0m, in \u001b[0;36m<lambda>\u001b[0;34m(x0, u)\u001b[0m\n\u001b[1;32m      2\u001b[0m Dterm_cost \u001b[38;5;241m=\u001b[39m grad(term_cost)\n\u001b[1;32m      3\u001b[0m Drunning_cost \u001b[38;5;241m=\u001b[39m grad(running_cost)\n\u001b[0;32m----> 4\u001b[0m forward_sim \u001b[38;5;241m=\u001b[39m \u001b[38;5;28;01mlambda\u001b[39;00m x0, u: \u001b[43mscan\u001b[49m\u001b[43m(\u001b[49m\u001b[43mstep_forward\u001b[49m\u001b[43m,\u001b[49m\u001b[43m \u001b[49m\u001b[43mx0\u001b[49m\u001b[43m,\u001b[49m\u001b[43m \u001b[49m\u001b[43mu\u001b[49m\u001b[43m)\u001b[49m\n\u001b[1;32m      5\u001b[0m backward_sim \u001b[38;5;241m=\u001b[39m \u001b[38;5;28;01mlambda\u001b[39;00m rho0, v, u: scan(F_backward, rho0, jnp\u001b[38;5;241m.\u001b[39mconcatenate([v[::\u001b[38;5;241m-\u001b[39m\u001b[38;5;241m1\u001b[39m], u[::\u001b[38;5;241m-\u001b[39m\u001b[38;5;241m1\u001b[39m]], axis\u001b[38;5;241m=\u001b[39m\u001b[38;5;241m1\u001b[39m))\n",
      "Cell \u001b[0;32mIn[16], line 9\u001b[0m, in \u001b[0;36mscan\u001b[0;34m(f, init, xs, length)\u001b[0m\n\u001b[1;32m      7\u001b[0m ys \u001b[38;5;241m=\u001b[39m []\n\u001b[1;32m      8\u001b[0m \u001b[38;5;28;01mfor\u001b[39;00m x \u001b[38;5;129;01min\u001b[39;00m xs:\n\u001b[0;32m----> 9\u001b[0m   carry, y \u001b[38;5;241m=\u001b[39m \u001b[43mf\u001b[49m\u001b[43m(\u001b[49m\u001b[43mcarry\u001b[49m\u001b[43m,\u001b[49m\u001b[43m \u001b[49m\u001b[43mx\u001b[49m\u001b[43m)\u001b[49m\n\u001b[1;32m     10\u001b[0m   ys\u001b[38;5;241m.\u001b[39mappend(y)\n\u001b[1;32m     11\u001b[0m \u001b[38;5;28;01mreturn\u001b[39;00m carry, jnp\u001b[38;5;241m.\u001b[39mstack(ys)\n",
      "Cell \u001b[0;32mIn[14], line 3\u001b[0m, in \u001b[0;36mstep_forward\u001b[0;34m(x_0, u)\u001b[0m\n\u001b[1;32m      1\u001b[0m \u001b[38;5;28;01mdef\u001b[39;00m \u001b[38;5;21mstep_forward\u001b[39m(x_0:np\u001b[38;5;241m.\u001b[39marray, u:np\u001b[38;5;241m.\u001b[39marray):\n\u001b[1;32m      2\u001b[0m     \u001b[38;5;66;03m# make sure the shape of control is the dimension of the torque\u001b[39;00m\n\u001b[0;32m----> 3\u001b[0m     \u001b[38;5;28;01massert\u001b[39;00m (u\u001b[38;5;241m.\u001b[39mshape[\u001b[38;5;241m0\u001b[39m] \u001b[38;5;241m==\u001b[39m  mj_model\u001b[38;5;241m.\u001b[39mnu)\n\u001b[1;32m      4\u001b[0m     \u001b[38;5;28;01massert\u001b[39;00m (x_0\u001b[38;5;241m.\u001b[39mshape[\u001b[38;5;241m0\u001b[39m] \u001b[38;5;241m==\u001b[39m mj_model\u001b[38;5;241m.\u001b[39mnq \u001b[38;5;241m+\u001b[39m mj_model\u001b[38;5;241m.\u001b[39mnv)\n\u001b[1;32m      5\u001b[0m     state \u001b[38;5;241m=\u001b[39m get_state(mj_model, mj_data)\n",
      "\u001b[0;31mAssertionError\u001b[0m: "
     ]
    }
   ],
   "source": [
    "if __name__ == \"__main__\":\n",
    "    for th in ths:\n",
    "        for R in Rs:\n",
    "            T = int(th / dt)\n",
    "            Framerates = 60\n",
    "            default_pose = jnp.array([0, 1.25, 0, 0, 0, 0])\n",
    "            default_vel = jnp.zeros(6)\n",
    "            x_0 = np.array([0, 1.2, 0, 0, 0, 0, 0, 0.001, 0, 0, 0, 0])\n",
    "            J_prev = np.inf\n",
    "            # set inintial state\n",
    "            ctrl = jnp.zeros((int(th / dt), mj_data.nu))\n",
    "            ctrl, J_prev = SAC(x_0, ctrl, J_prev)\n",
    "\n",
    "            log = []\n",
    "            u_log = []\n",
    "            cost_log = []\n",
    "        \n",
    "            # print(\"nv is \", mj_model.nv)\n",
    "            # print(\"nu is \", mj_model.nu)\n",
    "            # print(\"nq is \", mj_model.nq)\n",
    "            frames = []\n",
    "            time_now = 0\n",
    "            for t in range(int(tf/dt)):\n",
    "                time_sac = time.time()\n",
    "                log.append(np.array(x_0))\n",
    "                ctrl, J_prev = SAC(x_0, ctrl, J_prev) \n",
    "                u_log.append(np.array(ctrl[0]))\n",
    "                # print(\"one iteration for sac is \", time.time() - time_sac)\n",
    "                # print(\"ctrl is \", ctrl[0])\n",
    "                x_0 = step_forward(x_0, ctrl[0])[0]\n",
    "                time_now += dt\n",
    "                if len(frames) < time_now * Framerates:\n",
    "                    renderer.update_scene(mj_data, camera, scene_option)\n",
    "                    pixels = renderer.render()\n",
    "                    frames.append(pixels)\n",
    "\n",
    "            # z = np.stack(log)\n",
    "            # v = np.stack(u_log)\n",
    "            # plt.plot(z)\n",
    "            # plt.stem(v, 'k')\n",
    "            # plt.title(\"Prediction Horizon :%s, R: %s\"%(str(th)[:4], str(R)))\n",
    "            # plt.legend(['position','angle','velocity','angular velocity','ctrl'])\n",
    "            # plt.savefig(\"./figs/cartpole_th_%s_R_%s.png\"%(str(th)[:4].replace(\".\", \"_\"), str(R).replace(\".\", \"_\"))) \n",
    "            # plt.close()\n",
    "            media.write_video('./hopper_videos/hopper_th_%s_R_%s.mp4'%(str(th)[:4].replace(\".\", \"_\"), str(R).replace(\".\", \"_\")), frames, fps=Framerates)\n",
    "\n",
    "\n"
   ]
  },
  {
   "cell_type": "code",
   "execution_count": null,
   "metadata": {},
   "outputs": [],
   "source": [
    "media.write_video('cartpole.mp4', frames, fps=Framerates)\n",
    "media.show_video(media.read_video('cartpole.mp4'), fps=Framerates) # , fps=FRAMERATE"
   ]
  }
 ],
 "metadata": {
  "kernelspec": {
   "display_name": "contact",
   "language": "python",
   "name": "python3"
  },
  "language_info": {
   "codemirror_mode": {
    "name": "ipython",
    "version": 3
   },
   "file_extension": ".py",
   "mimetype": "text/x-python",
   "name": "python",
   "nbconvert_exporter": "python",
   "pygments_lexer": "ipython3",
   "version": "3.8.10"
  }
 },
 "nbformat": 4,
 "nbformat_minor": 2
}
